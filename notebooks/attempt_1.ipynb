{
 "cells": [
  {
   "cell_type": "markdown",
   "metadata": {},
   "source": [
    "# Data Collection"
   ]
  },
  {
   "cell_type": "code",
   "execution_count": 1,
   "metadata": {},
   "outputs": [],
   "source": [
    "import sys\n",
    "sys.path.append('../')\n",
    "\n",
    "from src.database.mongo import get_topics_from_mongo"
   ]
  },
  {
   "cell_type": "code",
   "execution_count": 2,
   "metadata": {},
   "outputs": [
    {
     "name": "stdout",
     "output_type": "stream",
     "text": [
      "['attempt1_programming', 'programming_embeddings']\n"
     ]
    },
    {
     "data": {
      "text/plain": [
       "4414"
      ]
     },
     "execution_count": 2,
     "metadata": {},
     "output_type": "execute_result"
    }
   ],
   "source": [
    "from src.database.chromadb import ChromaDBClient\n",
    "client = ChromaDBClient(r\"../chroma\")\n",
    "\n",
    "# client.list_collections()\n",
    "print(client._client.list_collections())\n",
    "client._client.get_collection('attempt1_programming').count()"
   ]
  },
  {
   "cell_type": "code",
   "execution_count": 5,
   "metadata": {},
   "outputs": [
    {
     "data": {
      "text/plain": [
       "dict_keys(['_id', 'domain', 'id', 'categories', 'content', 'description', 'properties', 'sections', 'summary', 'title', 'topic_type', 'url', 'wikidata_url', 'embedding_refs'])"
      ]
     },
     "execution_count": 5,
     "metadata": {},
     "output_type": "execute_result"
    }
   ],
   "source": [
    "# from src.data_collection import get_data_from_wiki\n",
    "# from src.data_collection.embedding_processor import process_topics_to_embeddings\n",
    "\n",
    "limit = 1000\n",
    "\n",
    "# enriched_topics = await get_data_from_wiki(limit=limit, domain=\"programming\", save_to_mongo=False)\n",
    "# vectorized_topics = await await process_topics_to_embeddings(domain=domain,topics=enriched_topics,limit=limit)\n",
    "\n",
    "\n",
    "enriched_topics = await get_topics_from_mongo(limit=limit, domain=\"programming\")\n",
    "enriched_topics = [topic for topic in enriched_topics if topic.get(\"content\") and topic.get(\"embedding_refs\")]\n",
    "enriched_topics[0].keys()"
   ]
  },
  {
   "cell_type": "markdown",
   "metadata": {},
   "source": [
    "# Get stored embeddings"
   ]
  },
  {
   "cell_type": "code",
   "execution_count": 6,
   "metadata": {},
   "outputs": [],
   "source": [
    "from src.database.chromadb import ChromaDBClient\n",
    "\n",
    "vector_db = ChromaDBClient()\n",
    "embedded_topics = []\n",
    "for topic in enriched_topics:\n",
    "    if topic.get(\"embedding_refs\"):\n",
    "        topic[\"embedding\"] = []\n",
    "        \n",
    "        for chunk_id in topic[\"embedding_refs\"][\"chunk_ids\"]:\n",
    "            #print(f\"Chunk ID: {chunk_id}\")\n",
    "            collection = vector_db.get_or_create_collection(topic[\"embedding_refs\"][\"collection\"])\n",
    "            embedding = vector_db.query_by_ids(topic[\"embedding_refs\"][\"collection\"], chunk_id, limit=limit)\n",
    "            count = collection.count()\n",
    "            if not embedding:\n",
    "                print(f\"Chunk ID {chunk_id} not found in collection {topic['embedding_refs']['collection']}.\")\n",
    "                continue\n",
    "            #print(embedding[\"included\"])\n",
    "            topic[\"embedding\"].extend(embedding)\n",
    "            embedded_topics.append(topic)\n"
   ]
  },
  {
   "cell_type": "code",
   "execution_count": 20,
   "metadata": {},
   "outputs": [
    {
     "data": {
      "text/plain": [
       "{'collection': 'attempt1_programming',\n",
       " 'chunk_ids': ['Q165436_0_1741683604',\n",
       "  'Q165436_1_1741683604',\n",
       "  'Q165436_2_1741683604',\n",
       "  'Q165436_3_1741683604',\n",
       "  'Q165436_4_1741683604',\n",
       "  'Q165436_5_1741683604',\n",
       "  'Q165436_6_1741683604',\n",
       "  'Q165436_7_1741683604',\n",
       "  'Q165436_8_1741683604',\n",
       "  'Q165436_9_1741683604',\n",
       "  'Q165436_10_1741683604',\n",
       "  'Q165436_11_1741683604',\n",
       "  'Q165436_12_1741683604',\n",
       "  'Q165436_13_1741683604',\n",
       "  'Q165436_14_1741683604',\n",
       "  'Q165436_15_1741683604',\n",
       "  'Q165436_16_1741683604',\n",
       "  'Q165436_17_1741683604',\n",
       "  'Q165436_18_1741683604',\n",
       "  'Q165436_19_1741683604',\n",
       "  'Q165436_20_1741683604',\n",
       "  'Q165436_21_1741683604',\n",
       "  'Q165436_22_1741683604',\n",
       "  'Q165436_23_1741683604',\n",
       "  'Q165436_24_1741683604',\n",
       "  'Q165436_25_1741683604',\n",
       "  'Q165436_26_1741683604',\n",
       "  'Q165436_27_1741683604',\n",
       "  'Q165436_28_1741683604',\n",
       "  'Q165436_29_1741683604',\n",
       "  'Q165436_30_1741683604',\n",
       "  'Q165436_31_1741683604',\n",
       "  'Q165436_32_1741683604',\n",
       "  'Q165436_33_1741683604',\n",
       "  'Q165436_34_1741683604',\n",
       "  'Q165436_35_1741683604',\n",
       "  'Q165436_36_1741683604',\n",
       "  'Q165436_37_1741683604',\n",
       "  'Q165436_38_1741683604',\n",
       "  'Q165436_39_1741683604',\n",
       "  'Q165436_40_1741683604',\n",
       "  'Q165436_41_1741683604',\n",
       "  'Q165436_42_1741683604',\n",
       "  'Q165436_43_1741683604',\n",
       "  'Q165436_44_1741683604',\n",
       "  'Q165436_45_1741683604',\n",
       "  'Q165436_46_1741683604',\n",
       "  'Q165436_47_1741683604',\n",
       "  'Q165436_48_1741683604',\n",
       "  'Q165436_49_1741683604',\n",
       "  'Q165436_50_1741683604',\n",
       "  'Q165436_51_1741683604',\n",
       "  'Q165436_52_1741683604',\n",
       "  'Q165436_53_1741683604',\n",
       "  'Q165436_54_1741683604',\n",
       "  'Q165436_55_1741683604',\n",
       "  'Q165436_56_1741683604',\n",
       "  'Q165436_57_1741683604',\n",
       "  'Q165436_58_1741683604',\n",
       "  'Q165436_59_1741683604',\n",
       "  'Q165436_60_1741683604',\n",
       "  'Q165436_61_1741683604',\n",
       "  'Q165436_62_1741683604',\n",
       "  'Q165436_63_1741683604',\n",
       "  'Q165436_64_1741683604',\n",
       "  'Q165436_65_1741683604',\n",
       "  'Q165436_66_1741683604',\n",
       "  'Q165436_67_1741683604',\n",
       "  'Q165436_68_1741683604',\n",
       "  'Q165436_69_1741683604',\n",
       "  'Q165436_70_1741683604',\n",
       "  'Q165436_71_1741683604',\n",
       "  'Q165436_72_1741683604',\n",
       "  'Q165436_73_1741683604',\n",
       "  'Q165436_74_1741683604',\n",
       "  'Q165436_75_1741683604',\n",
       "  'Q165436_76_1741683604',\n",
       "  'Q165436_77_1741683604',\n",
       "  'Q165436_78_1741683604',\n",
       "  'Q165436_79_1741683604',\n",
       "  'Q165436_80_1741683604',\n",
       "  'Q165436_81_1741683604',\n",
       "  'Q165436_82_1741683604',\n",
       "  'Q165436_83_1741683604',\n",
       "  'Q165436_84_1741683604',\n",
       "  'Q165436_85_1741683604',\n",
       "  'Q165436_86_1741683604',\n",
       "  'Q165436_87_1741683604',\n",
       "  'Q165436_88_1741683604',\n",
       "  'Q165436_89_1741683604',\n",
       "  'Q165436_90_1741683604',\n",
       "  'Q165436_91_1741683604',\n",
       "  'Q165436_92_1741683604',\n",
       "  'Q165436_93_1741683604',\n",
       "  'Q165436_94_1741683604',\n",
       "  'Q165436_95_1741683604',\n",
       "  'Q165436_96_1741683604',\n",
       "  'Q165436_97_1741683604',\n",
       "  'Q165436_98_1741683604',\n",
       "  'Q165436_99_1741683604',\n",
       "  'Q165436_100_1741683604',\n",
       "  'Q165436_101_1741683604',\n",
       "  'Q165436_102_1741683604',\n",
       "  'Q165436_103_1741683604',\n",
       "  'Q165436_104_1741683604',\n",
       "  'Q165436_105_1741683604',\n",
       "  'Q165436_106_1741683604',\n",
       "  'Q165436_107_1741683604',\n",
       "  'Q165436_108_1741683604',\n",
       "  'Q165436_109_1741683604',\n",
       "  'Q165436_110_1741683604',\n",
       "  'Q165436_111_1741683604',\n",
       "  'Q165436_112_1741683604',\n",
       "  'Q165436_113_1741683604',\n",
       "  'Q165436_114_1741683604'],\n",
       " 'timestamp': 1741683637.078672}"
      ]
     },
     "execution_count": 20,
     "metadata": {},
     "output_type": "execute_result"
    }
   ],
   "source": [
    "enriched_topics[0]['embedding_refs']"
   ]
  },
  {
   "cell_type": "markdown",
   "metadata": {},
   "source": [
    "# Plot and Visualize using PCA"
   ]
  },
  {
   "cell_type": "code",
   "execution_count": 7,
   "metadata": {},
   "outputs": [],
   "source": [
    "# PCA\n",
    "import numpy as np\n",
    "from sklearn.decomposition import PCA\n",
    "import matplotlib.pyplot as plt\n",
    "from sklearn.preprocessing import StandardScaler\n",
    "from sklearn.manifold import TSNE\n",
    "import seaborn as sns\n",
    "from sklearn.decomposition import PCA\n",
    "from sklearn.manifold import TSNE\n",
    "import pandas as pd"
   ]
  },
  {
   "cell_type": "code",
   "execution_count": 8,
   "metadata": {},
   "outputs": [
    {
     "ename": "ValueError",
     "evalue": "could not convert string to float: np.str_('ids')",
     "output_type": "error",
     "traceback": [
      "\u001b[31m---------------------------------------------------------------------------\u001b[39m",
      "\u001b[31mValueError\u001b[39m                                Traceback (most recent call last)",
      "\u001b[36mCell\u001b[39m\u001b[36m \u001b[39m\u001b[32mIn[8]\u001b[39m\u001b[32m, line 24\u001b[39m\n\u001b[32m     22\u001b[39m \u001b[38;5;66;03m# 1. PCA 3D VISUALIZATION - TOP SUBPLOT\u001b[39;00m\n\u001b[32m     23\u001b[39m pca_3d = PCA(n_components=\u001b[32m3\u001b[39m)\n\u001b[32m---> \u001b[39m\u001b[32m24\u001b[39m pca_result_3d = \u001b[43mpca_3d\u001b[49m\u001b[43m.\u001b[49m\u001b[43mfit_transform\u001b[49m\u001b[43m(\u001b[49m\u001b[43membeddings_array\u001b[49m\u001b[43m)\u001b[49m\n\u001b[32m     26\u001b[39m ax1 = fig.add_subplot(\u001b[32m211\u001b[39m, projection=\u001b[33m'\u001b[39m\u001b[33m3d\u001b[39m\u001b[33m'\u001b[39m)\n\u001b[32m     27\u001b[39m scatter_pca = ax1.scatter(\n\u001b[32m     28\u001b[39m     pca_result_3d[:, \u001b[32m0\u001b[39m], \n\u001b[32m     29\u001b[39m     pca_result_3d[:, \u001b[32m1\u001b[39m], \n\u001b[32m   (...)\u001b[39m\u001b[32m     34\u001b[39m     alpha=\u001b[32m0.7\u001b[39m\n\u001b[32m     35\u001b[39m )\n",
      "\u001b[36mFile \u001b[39m\u001b[32mg:\\Projects\\learning_path\\.venv\\Lib\\site-packages\\sklearn\\utils\\_set_output.py:319\u001b[39m, in \u001b[36m_wrap_method_output.<locals>.wrapped\u001b[39m\u001b[34m(self, X, *args, **kwargs)\u001b[39m\n\u001b[32m    317\u001b[39m \u001b[38;5;129m@wraps\u001b[39m(f)\n\u001b[32m    318\u001b[39m \u001b[38;5;28;01mdef\u001b[39;00m\u001b[38;5;250m \u001b[39m\u001b[34mwrapped\u001b[39m(\u001b[38;5;28mself\u001b[39m, X, *args, **kwargs):\n\u001b[32m--> \u001b[39m\u001b[32m319\u001b[39m     data_to_wrap = \u001b[43mf\u001b[49m\u001b[43m(\u001b[49m\u001b[38;5;28;43mself\u001b[39;49m\u001b[43m,\u001b[49m\u001b[43m \u001b[49m\u001b[43mX\u001b[49m\u001b[43m,\u001b[49m\u001b[43m \u001b[49m\u001b[43m*\u001b[49m\u001b[43margs\u001b[49m\u001b[43m,\u001b[49m\u001b[43m \u001b[49m\u001b[43m*\u001b[49m\u001b[43m*\u001b[49m\u001b[43mkwargs\u001b[49m\u001b[43m)\u001b[49m\n\u001b[32m    320\u001b[39m     \u001b[38;5;28;01mif\u001b[39;00m \u001b[38;5;28misinstance\u001b[39m(data_to_wrap, \u001b[38;5;28mtuple\u001b[39m):\n\u001b[32m    321\u001b[39m         \u001b[38;5;66;03m# only wrap the first output for cross decomposition\u001b[39;00m\n\u001b[32m    322\u001b[39m         return_tuple = (\n\u001b[32m    323\u001b[39m             _wrap_data_with_container(method, data_to_wrap[\u001b[32m0\u001b[39m], X, \u001b[38;5;28mself\u001b[39m),\n\u001b[32m    324\u001b[39m             *data_to_wrap[\u001b[32m1\u001b[39m:],\n\u001b[32m    325\u001b[39m         )\n",
      "\u001b[36mFile \u001b[39m\u001b[32mg:\\Projects\\learning_path\\.venv\\Lib\\site-packages\\sklearn\\base.py:1389\u001b[39m, in \u001b[36m_fit_context.<locals>.decorator.<locals>.wrapper\u001b[39m\u001b[34m(estimator, *args, **kwargs)\u001b[39m\n\u001b[32m   1382\u001b[39m     estimator._validate_params()\n\u001b[32m   1384\u001b[39m \u001b[38;5;28;01mwith\u001b[39;00m config_context(\n\u001b[32m   1385\u001b[39m     skip_parameter_validation=(\n\u001b[32m   1386\u001b[39m         prefer_skip_nested_validation \u001b[38;5;129;01mor\u001b[39;00m global_skip_validation\n\u001b[32m   1387\u001b[39m     )\n\u001b[32m   1388\u001b[39m ):\n\u001b[32m-> \u001b[39m\u001b[32m1389\u001b[39m     \u001b[38;5;28;01mreturn\u001b[39;00m \u001b[43mfit_method\u001b[49m\u001b[43m(\u001b[49m\u001b[43mestimator\u001b[49m\u001b[43m,\u001b[49m\u001b[43m \u001b[49m\u001b[43m*\u001b[49m\u001b[43margs\u001b[49m\u001b[43m,\u001b[49m\u001b[43m \u001b[49m\u001b[43m*\u001b[49m\u001b[43m*\u001b[49m\u001b[43mkwargs\u001b[49m\u001b[43m)\u001b[49m\n",
      "\u001b[36mFile \u001b[39m\u001b[32mg:\\Projects\\learning_path\\.venv\\Lib\\site-packages\\sklearn\\decomposition\\_pca.py:468\u001b[39m, in \u001b[36mPCA.fit_transform\u001b[39m\u001b[34m(self, X, y)\u001b[39m\n\u001b[32m    445\u001b[39m \u001b[38;5;129m@_fit_context\u001b[39m(prefer_skip_nested_validation=\u001b[38;5;28;01mTrue\u001b[39;00m)\n\u001b[32m    446\u001b[39m \u001b[38;5;28;01mdef\u001b[39;00m\u001b[38;5;250m \u001b[39m\u001b[34mfit_transform\u001b[39m(\u001b[38;5;28mself\u001b[39m, X, y=\u001b[38;5;28;01mNone\u001b[39;00m):\n\u001b[32m    447\u001b[39m \u001b[38;5;250m    \u001b[39m\u001b[33;03m\"\"\"Fit the model with X and apply the dimensionality reduction on X.\u001b[39;00m\n\u001b[32m    448\u001b[39m \n\u001b[32m    449\u001b[39m \u001b[33;03m    Parameters\u001b[39;00m\n\u001b[32m   (...)\u001b[39m\u001b[32m    466\u001b[39m \u001b[33;03m    C-ordered array, use 'np.ascontiguousarray'.\u001b[39;00m\n\u001b[32m    467\u001b[39m \u001b[33;03m    \"\"\"\u001b[39;00m\n\u001b[32m--> \u001b[39m\u001b[32m468\u001b[39m     U, S, _, X, x_is_centered, xp = \u001b[38;5;28;43mself\u001b[39;49m\u001b[43m.\u001b[49m\u001b[43m_fit\u001b[49m\u001b[43m(\u001b[49m\u001b[43mX\u001b[49m\u001b[43m)\u001b[49m\n\u001b[32m    469\u001b[39m     \u001b[38;5;28;01mif\u001b[39;00m U \u001b[38;5;129;01mis\u001b[39;00m \u001b[38;5;129;01mnot\u001b[39;00m \u001b[38;5;28;01mNone\u001b[39;00m:\n\u001b[32m    470\u001b[39m         U = U[:, : \u001b[38;5;28mself\u001b[39m.n_components_]\n",
      "\u001b[36mFile \u001b[39m\u001b[32mg:\\Projects\\learning_path\\.venv\\Lib\\site-packages\\sklearn\\decomposition\\_pca.py:505\u001b[39m, in \u001b[36mPCA._fit\u001b[39m\u001b[34m(self, X)\u001b[39m\n\u001b[32m    495\u001b[39m     \u001b[38;5;28;01mraise\u001b[39;00m \u001b[38;5;167;01mValueError\u001b[39;00m(\n\u001b[32m    496\u001b[39m         \u001b[33m\"\u001b[39m\u001b[33mPCA with svd_solver=\u001b[39m\u001b[33m'\u001b[39m\u001b[33marpack\u001b[39m\u001b[33m'\u001b[39m\u001b[33m is not supported for Array API inputs.\u001b[39m\u001b[33m\"\u001b[39m\n\u001b[32m    497\u001b[39m     )\n\u001b[32m    499\u001b[39m \u001b[38;5;66;03m# Validate the data, without ever forcing a copy as any solver that\u001b[39;00m\n\u001b[32m    500\u001b[39m \u001b[38;5;66;03m# supports sparse input data and the `covariance_eigh` solver are\u001b[39;00m\n\u001b[32m    501\u001b[39m \u001b[38;5;66;03m# written in a way to avoid the need for any inplace modification of\u001b[39;00m\n\u001b[32m    502\u001b[39m \u001b[38;5;66;03m# the input data contrary to the other solvers.\u001b[39;00m\n\u001b[32m    503\u001b[39m \u001b[38;5;66;03m# The copy will happen\u001b[39;00m\n\u001b[32m    504\u001b[39m \u001b[38;5;66;03m# later, only if needed, once the solver negotiation below is done.\u001b[39;00m\n\u001b[32m--> \u001b[39m\u001b[32m505\u001b[39m X = \u001b[43mvalidate_data\u001b[49m\u001b[43m(\u001b[49m\n\u001b[32m    506\u001b[39m \u001b[43m    \u001b[49m\u001b[38;5;28;43mself\u001b[39;49m\u001b[43m,\u001b[49m\n\u001b[32m    507\u001b[39m \u001b[43m    \u001b[49m\u001b[43mX\u001b[49m\u001b[43m,\u001b[49m\n\u001b[32m    508\u001b[39m \u001b[43m    \u001b[49m\u001b[43mdtype\u001b[49m\u001b[43m=\u001b[49m\u001b[43m[\u001b[49m\u001b[43mxp\u001b[49m\u001b[43m.\u001b[49m\u001b[43mfloat64\u001b[49m\u001b[43m,\u001b[49m\u001b[43m \u001b[49m\u001b[43mxp\u001b[49m\u001b[43m.\u001b[49m\u001b[43mfloat32\u001b[49m\u001b[43m]\u001b[49m\u001b[43m,\u001b[49m\n\u001b[32m    509\u001b[39m \u001b[43m    \u001b[49m\u001b[43mforce_writeable\u001b[49m\u001b[43m=\u001b[49m\u001b[38;5;28;43;01mTrue\u001b[39;49;00m\u001b[43m,\u001b[49m\n\u001b[32m    510\u001b[39m \u001b[43m    \u001b[49m\u001b[43maccept_sparse\u001b[49m\u001b[43m=\u001b[49m\u001b[43m(\u001b[49m\u001b[33;43m\"\u001b[39;49m\u001b[33;43mcsr\u001b[39;49m\u001b[33;43m\"\u001b[39;49m\u001b[43m,\u001b[49m\u001b[43m \u001b[49m\u001b[33;43m\"\u001b[39;49m\u001b[33;43mcsc\u001b[39;49m\u001b[33;43m\"\u001b[39;49m\u001b[43m)\u001b[49m\u001b[43m,\u001b[49m\n\u001b[32m    511\u001b[39m \u001b[43m    \u001b[49m\u001b[43mensure_2d\u001b[49m\u001b[43m=\u001b[49m\u001b[38;5;28;43;01mTrue\u001b[39;49;00m\u001b[43m,\u001b[49m\n\u001b[32m    512\u001b[39m \u001b[43m    \u001b[49m\u001b[43mcopy\u001b[49m\u001b[43m=\u001b[49m\u001b[38;5;28;43;01mFalse\u001b[39;49;00m\u001b[43m,\u001b[49m\n\u001b[32m    513\u001b[39m \u001b[43m\u001b[49m\u001b[43m)\u001b[49m\n\u001b[32m    514\u001b[39m \u001b[38;5;28mself\u001b[39m._fit_svd_solver = \u001b[38;5;28mself\u001b[39m.svd_solver\n\u001b[32m    515\u001b[39m \u001b[38;5;28;01mif\u001b[39;00m \u001b[38;5;28mself\u001b[39m._fit_svd_solver == \u001b[33m\"\u001b[39m\u001b[33mauto\u001b[39m\u001b[33m\"\u001b[39m \u001b[38;5;129;01mand\u001b[39;00m issparse(X):\n",
      "\u001b[36mFile \u001b[39m\u001b[32mg:\\Projects\\learning_path\\.venv\\Lib\\site-packages\\sklearn\\utils\\validation.py:2944\u001b[39m, in \u001b[36mvalidate_data\u001b[39m\u001b[34m(_estimator, X, y, reset, validate_separately, skip_check_array, **check_params)\u001b[39m\n\u001b[32m   2942\u001b[39m         out = X, y\n\u001b[32m   2943\u001b[39m \u001b[38;5;28;01melif\u001b[39;00m \u001b[38;5;129;01mnot\u001b[39;00m no_val_X \u001b[38;5;129;01mand\u001b[39;00m no_val_y:\n\u001b[32m-> \u001b[39m\u001b[32m2944\u001b[39m     out = \u001b[43mcheck_array\u001b[49m\u001b[43m(\u001b[49m\u001b[43mX\u001b[49m\u001b[43m,\u001b[49m\u001b[43m \u001b[49m\u001b[43minput_name\u001b[49m\u001b[43m=\u001b[49m\u001b[33;43m\"\u001b[39;49m\u001b[33;43mX\u001b[39;49m\u001b[33;43m\"\u001b[39;49m\u001b[43m,\u001b[49m\u001b[43m \u001b[49m\u001b[43m*\u001b[49m\u001b[43m*\u001b[49m\u001b[43mcheck_params\u001b[49m\u001b[43m)\u001b[49m\n\u001b[32m   2945\u001b[39m \u001b[38;5;28;01melif\u001b[39;00m no_val_X \u001b[38;5;129;01mand\u001b[39;00m \u001b[38;5;129;01mnot\u001b[39;00m no_val_y:\n\u001b[32m   2946\u001b[39m     out = _check_y(y, **check_params)\n",
      "\u001b[36mFile \u001b[39m\u001b[32mg:\\Projects\\learning_path\\.venv\\Lib\\site-packages\\sklearn\\utils\\validation.py:1055\u001b[39m, in \u001b[36mcheck_array\u001b[39m\u001b[34m(array, accept_sparse, accept_large_sparse, dtype, order, copy, force_writeable, force_all_finite, ensure_all_finite, ensure_non_negative, ensure_2d, allow_nd, ensure_min_samples, ensure_min_features, estimator, input_name)\u001b[39m\n\u001b[32m   1053\u001b[39m         array = xp.astype(array, dtype, copy=\u001b[38;5;28;01mFalse\u001b[39;00m)\n\u001b[32m   1054\u001b[39m     \u001b[38;5;28;01melse\u001b[39;00m:\n\u001b[32m-> \u001b[39m\u001b[32m1055\u001b[39m         array = \u001b[43m_asarray_with_order\u001b[49m\u001b[43m(\u001b[49m\u001b[43marray\u001b[49m\u001b[43m,\u001b[49m\u001b[43m \u001b[49m\u001b[43morder\u001b[49m\u001b[43m=\u001b[49m\u001b[43morder\u001b[49m\u001b[43m,\u001b[49m\u001b[43m \u001b[49m\u001b[43mdtype\u001b[49m\u001b[43m=\u001b[49m\u001b[43mdtype\u001b[49m\u001b[43m,\u001b[49m\u001b[43m \u001b[49m\u001b[43mxp\u001b[49m\u001b[43m=\u001b[49m\u001b[43mxp\u001b[49m\u001b[43m)\u001b[49m\n\u001b[32m   1056\u001b[39m \u001b[38;5;28;01mexcept\u001b[39;00m ComplexWarning \u001b[38;5;28;01mas\u001b[39;00m complex_warning:\n\u001b[32m   1057\u001b[39m     \u001b[38;5;28;01mraise\u001b[39;00m \u001b[38;5;167;01mValueError\u001b[39;00m(\n\u001b[32m   1058\u001b[39m         \u001b[33m\"\u001b[39m\u001b[33mComplex data not supported\u001b[39m\u001b[38;5;130;01m\\n\u001b[39;00m\u001b[38;5;132;01m{}\u001b[39;00m\u001b[38;5;130;01m\\n\u001b[39;00m\u001b[33m\"\u001b[39m.format(array)\n\u001b[32m   1059\u001b[39m     ) \u001b[38;5;28;01mfrom\u001b[39;00m\u001b[38;5;250m \u001b[39m\u001b[34;01mcomplex_warning\u001b[39;00m\n",
      "\u001b[36mFile \u001b[39m\u001b[32mg:\\Projects\\learning_path\\.venv\\Lib\\site-packages\\sklearn\\utils\\_array_api.py:839\u001b[39m, in \u001b[36m_asarray_with_order\u001b[39m\u001b[34m(array, dtype, order, copy, xp, device)\u001b[39m\n\u001b[32m    837\u001b[39m     array = numpy.array(array, order=order, dtype=dtype)\n\u001b[32m    838\u001b[39m \u001b[38;5;28;01melse\u001b[39;00m:\n\u001b[32m--> \u001b[39m\u001b[32m839\u001b[39m     array = \u001b[43mnumpy\u001b[49m\u001b[43m.\u001b[49m\u001b[43masarray\u001b[49m\u001b[43m(\u001b[49m\u001b[43marray\u001b[49m\u001b[43m,\u001b[49m\u001b[43m \u001b[49m\u001b[43morder\u001b[49m\u001b[43m=\u001b[49m\u001b[43morder\u001b[49m\u001b[43m,\u001b[49m\u001b[43m \u001b[49m\u001b[43mdtype\u001b[49m\u001b[43m=\u001b[49m\u001b[43mdtype\u001b[49m\u001b[43m)\u001b[49m\n\u001b[32m    841\u001b[39m \u001b[38;5;66;03m# At this point array is a NumPy ndarray. We convert it to an array\u001b[39;00m\n\u001b[32m    842\u001b[39m \u001b[38;5;66;03m# container that is consistent with the input's namespace.\u001b[39;00m\n\u001b[32m    843\u001b[39m \u001b[38;5;28;01mreturn\u001b[39;00m xp.asarray(array)\n",
      "\u001b[31mValueError\u001b[39m: could not convert string to float: np.str_('ids')"
     ]
    },
    {
     "data": {
      "text/plain": [
       "<Figure size 1200x2000 with 0 Axes>"
      ]
     },
     "metadata": {},
     "output_type": "display_data"
    }
   ],
   "source": [
    "# Extract embeddings and metadata from enriched_topics\n",
    "embeddings = []\n",
    "titles = []\n",
    "domains = []\n",
    "\n",
    "for topic in enriched_topics:\n",
    "    if not topic[\"embedding\"]:\n",
    "        print(f\"Skipping topic {topic['title']} due to missing embedding.\")\n",
    "        continue\n",
    "    embeddings.append(topic[\"embedding\"][0])  # The embeddings are nested in a list\n",
    "    titles.append(topic[\"title\"])\n",
    "    domains.append(topic[\"domain\"])\n",
    "\n",
    "# Convert to numpy array\n",
    "embeddings_array = np.array(embeddings)\n",
    "\n",
    "# Create a figure with two subplots stacked vertically\n",
    "fig = plt.figure(figsize=(12, 20))\n",
    "# Adjust bottom for colorbar space\n",
    "fig.subplots_adjust(bottom=0.1)\n",
    "\n",
    "# 1. PCA 3D VISUALIZATION - TOP SUBPLOT\n",
    "pca_3d = PCA(n_components=3)\n",
    "pca_result_3d = pca_3d.fit_transform(embeddings_array)\n",
    "\n",
    "ax1 = fig.add_subplot(211, projection='3d')\n",
    "scatter_pca = ax1.scatter(\n",
    "    pca_result_3d[:, 0], \n",
    "    pca_result_3d[:, 1], \n",
    "    pca_result_3d[:, 2],\n",
    "    c=np.arange(len(embeddings)),\n",
    "    cmap='viridis',\n",
    "    s=50, \n",
    "    alpha=0.7\n",
    ")\n",
    "\n",
    "ax1.set_title('3D PCA Visualization', fontsize=16)\n",
    "ax1.set_xlabel('PC1', fontsize=12)\n",
    "ax1.set_ylabel('PC2', fontsize=12)\n",
    "ax1.set_zlabel('PC3', fontsize=12)\n",
    "\n",
    "# 2. t-SNE 3D VISUALIZATION - BOTTOM SUBPLOT\n",
    "print(\"Computing t-SNE (this may take a while for 1000 points)...\")\n",
    "\n",
    "tsne_3d = TSNE(\n",
    "    n_components=3, \n",
    "    perplexity=min(30, len(embeddings)-1),\n",
    "    random_state=42, \n",
    "    n_iter=1000,\n",
    "    learning_rate='auto',\n",
    "    init='pca'\n",
    ")\n",
    "tsne_result_3d = tsne_3d.fit_transform(embeddings_array)\n",
    "\n",
    "ax2 = fig.add_subplot(212, projection='3d')\n",
    "scatter_tsne = ax2.scatter(\n",
    "    tsne_result_3d[:, 0], \n",
    "    tsne_result_3d[:, 1], \n",
    "    tsne_result_3d[:, 2],\n",
    "    c=np.arange(len(embeddings)),\n",
    "    cmap='viridis',\n",
    "    s=50, \n",
    "    alpha=0.7\n",
    ")\n",
    "\n",
    "ax2.set_title('3D t-SNE Visualization', fontsize=16)\n",
    "ax2.set_xlabel('Component 1', fontsize=12)\n",
    "ax2.set_ylabel('Component 2', fontsize=12)\n",
    "ax2.set_zlabel('Component 3', fontsize=12)\n",
    "\n",
    "# Create a horizontal colorbar at the bottom\n",
    "cbar_ax = fig.add_axes([0.15, 0.05, 0.7, 0.02])  # left, bottom, width, height\n",
    "cbar = fig.colorbar(scatter_tsne, cax=cbar_ax, orientation='horizontal')\n",
    "cbar.set_label('Topic Index', fontsize=12)\n",
    "\n",
    "plt.suptitle('Comparing 3D PCA and t-SNE Visualizations of Topic Embeddings', fontsize=18, y=0.98)\n",
    "\n",
    "# Only add text labels if there are few points to reduce clutter\n",
    "if len(embeddings) <= 50:\n",
    "    for i, title in enumerate(titles):\n",
    "        ax1.text(\n",
    "            pca_result_3d[i, 0], \n",
    "            pca_result_3d[i, 1], \n",
    "            pca_result_3d[i, 2], \n",
    "            title, \n",
    "            size=8\n",
    "        )\n",
    "        ax2.text(\n",
    "            tsne_result_3d[i, 0], \n",
    "            tsne_result_3d[i, 1], \n",
    "            tsne_result_3d[i, 2], \n",
    "            title, \n",
    "            size=8\n",
    "        )\n",
    "\n",
    "print(f\"Total explained variance with 3 PCA components: {sum(pca_3d.explained_variance_ratio_):.2f}\")\n",
    "\n",
    "plt.tight_layout(rect=[0, 0.08, 1, 0.98])  # Adjust layout but leave space for colorbar\n",
    "plt.show()\n",
    "\n",
    "# Optional: Save clustered data for further analysis\n",
    "visualization_data = pd.DataFrame({\n",
    "    'title': titles,\n",
    "    'domain': domains,\n",
    "    'pca_x': pca_result_3d[:, 0],\n",
    "    'pca_y': pca_result_3d[:, 1],\n",
    "    'pca_z': pca_result_3d[:, 2],\n",
    "    'tsne_x': tsne_result_3d[:, 0],\n",
    "    'tsne_y': tsne_result_3d[:, 1],\n",
    "    'tsne_z': tsne_result_3d[:, 2]\n",
    "})"
   ]
  },
  {
   "cell_type": "code",
   "execution_count": null,
   "metadata": {},
   "outputs": [
    {
     "name": "stdout",
     "output_type": "stream",
     "text": [
      "Applying PCA...\n",
      "Computing t-SNE...\n"
     ]
    },
    {
     "name": "stderr",
     "output_type": "stream",
     "text": [
      "g:\\Projects\\learning_path\\.venv\\Lib\\site-packages\\sklearn\\manifold\\_t_sne.py:1164: FutureWarning:\n",
      "\n",
      "'n_iter' was renamed to 'max_iter' in version 1.5 and will be removed in 1.7.\n",
      "\n"
     ]
    },
    {
     "name": "stdout",
     "output_type": "stream",
     "text": [
      "Computing edges based on cosine similarity...\n",
      "Graph has 149 nodes and 23 edges\n",
      "Total explained variance with 3 PCA components: 0.19\n",
      "Displaying interactive PCA visualization...\n"
     ]
    },
    {
     "data": {
      "application/vnd.plotly.v1+json": {
       "config": {
        "plotlyServerURL": "https://plot.ly"
       },
       "data": [
        {
         "hoverinfo": "none",
         "line": {
          "color": "lightgrey",
          "width": 1
         },
         "mode": "lines",
         "type": "scatter3d",
         "x": [
          -0.12005678355135045,
          -0.13468521927852797,
          null,
          -0.11777807753969982,
          -0.13113204213589716,
          null,
          -0.19462548665757592,
          -0.15774973541841397,
          null,
          -0.08800687973173305,
          -0.12753808437320363,
          null,
          -0.1913368006429704,
          -0.14016158174445323,
          null,
          0.04712333887734728,
          0.02957375295284348,
          null,
          -0.21480754096858928,
          -0.18079519892112045,
          null,
          -0.21480754096858928,
          -0.2156867487646156,
          null,
          -0.21480754096858928,
          -0.1989200542436876,
          null,
          -0.21480754096858928,
          -0.2326960565016212,
          null,
          0.119540098608135,
          0.11012248387733661,
          null,
          -0.14409508243187982,
          -0.18079519892112045,
          null,
          -0.14409508243187982,
          -0.21406898932066762,
          null,
          -0.12592702451287435,
          -0.07170611296612824,
          null,
          0.0036028233114176462,
          0.04317498045016112,
          null,
          -0.18079519892112045,
          -0.2156867487646156,
          null,
          0.44646898220491915,
          0.4331095595646112,
          null,
          -0.20614369228337368,
          -0.19723480355510228,
          null,
          -0.23206868563021693,
          -0.19444439841045652,
          null,
          -0.2156867487646156,
          -0.1989200542436876,
          null,
          -0.2156867487646156,
          -0.2326960565016212,
          null,
          -0.16735963659197248,
          -0.23646230986856773,
          null,
          -0.17331390409392375,
          -0.16581838981217922,
          null
         ],
         "y": [
          0.13775285402051987,
          0.09135211179310987,
          null,
          -0.041887358639456404,
          -0.07245882588128746,
          null,
          0.08824185315191148,
          0.11663392924345165,
          null,
          0.0801261029647799,
          0.06279030688159468,
          null,
          0.05066257422611977,
          -0.02860367481612126,
          null,
          -0.24717054815174927,
          -0.24796650152462532,
          null,
          0.32925950182489155,
          0.347022613659128,
          null,
          0.32925950182489155,
          0.3300364201149604,
          null,
          0.32925950182489155,
          0.21340469718226052,
          null,
          0.32925950182489155,
          0.30227718368484446,
          null,
          -0.3453820378062082,
          -0.2970345588370301,
          null,
          0.20967912406894487,
          0.347022613659128,
          null,
          0.20967912406894487,
          0.1628015477266289,
          null,
          -0.06741885136912674,
          -0.06945376221155573,
          null,
          -0.22407053051171644,
          -0.28720670542177695,
          null,
          0.347022613659128,
          0.3300364201149604,
          null,
          0.17033887108456472,
          0.16577001095738017,
          null,
          0.1053508548477854,
          0.12092330916459697,
          null,
          0.31568097364222053,
          0.3076193951175543,
          null,
          0.3300364201149604,
          0.21340469718226052,
          null,
          0.3300364201149604,
          0.30227718368484446,
          null,
          0.3026451104437605,
          0.30611731806988834,
          null,
          -0.09911083887725286,
          -0.08907547994417553,
          null
         ],
         "z": [
          -0.10268777142474467,
          -0.008318465351860467,
          null,
          0.18493427621938655,
          0.11097071593681067,
          null,
          -0.18857877252135394,
          -0.19236267073811744,
          null,
          0.1785611586163636,
          0.18383156107278398,
          null,
          0.006432167578366991,
          0.030844122863506847,
          null,
          0.018259169003046177,
          0.24598575787617583,
          null,
          0.03227711087729555,
          0.10516906164871563,
          null,
          0.03227711087729555,
          0.028885848196577062,
          null,
          0.03227711087729555,
          0.03993139657078934,
          null,
          0.03227711087729555,
          -0.027765464165819306,
          null,
          0.013135393456151175,
          -0.040999009447887556,
          null,
          0.3028236099149977,
          0.10516906164871563,
          null,
          0.3028236099149977,
          0.2791739009734076,
          null,
          -0.2323263794486263,
          -0.207128612196104,
          null,
          0.21157556059051555,
          0.18906149927606758,
          null,
          0.10516906164871563,
          0.028885848196577062,
          null,
          -0.14314623221985817,
          -0.11063599091244991,
          null,
          -0.30128824099220564,
          -0.3000948287257806,
          null,
          0.09795670233143781,
          0.19144480337612976,
          null,
          0.028885848196577062,
          0.03993139657078934,
          null,
          0.028885848196577062,
          -0.027765464165819306,
          null,
          0.15261586008974257,
          0.18144503435656165,
          null,
          -0.11051813520687048,
          -0.1470420133627947,
          null
         ]
        },
        {
         "hoverinfo": "text",
         "marker": {
          "color": [
           0,
           1,
           2,
           3,
           4,
           5,
           6,
           7,
           8,
           9,
           10,
           11,
           12,
           13,
           14,
           15,
           16,
           17,
           18,
           19,
           20,
           21,
           22,
           23,
           24,
           25,
           26,
           27,
           28,
           29,
           30,
           31,
           32,
           33,
           34,
           35,
           36,
           37,
           38,
           39,
           40,
           41,
           42,
           43,
           44,
           45,
           46,
           47,
           48,
           49,
           50,
           51,
           52,
           53,
           54,
           55,
           56,
           57,
           58,
           59,
           60,
           61,
           62,
           63,
           64,
           65,
           66,
           67,
           68,
           69,
           70,
           71,
           72,
           73,
           74,
           75,
           76,
           77,
           78,
           79,
           80,
           81,
           82,
           83,
           84,
           85,
           86,
           87,
           88,
           89,
           90,
           91,
           92,
           93,
           94,
           95,
           96,
           97,
           98,
           99,
           100,
           101,
           102,
           103,
           104,
           105,
           106,
           107,
           108,
           109,
           110,
           111,
           112,
           113,
           114,
           115,
           116,
           117,
           118,
           119,
           120,
           121,
           122,
           123,
           124,
           125,
           126,
           127,
           128,
           129,
           130,
           131,
           132,
           133,
           134,
           135,
           136,
           137,
           138,
           139,
           140,
           141,
           142,
           143,
           144,
           145,
           146,
           147,
           148
          ],
          "colorbar": {
           "thickness": 20,
           "title": {
            "text": "Node Index"
           }
          },
          "colorscale": [
           [
            0,
            "#440154"
           ],
           [
            0.1111111111111111,
            "#482878"
           ],
           [
            0.2222222222222222,
            "#3e4989"
           ],
           [
            0.3333333333333333,
            "#31688e"
           ],
           [
            0.4444444444444444,
            "#26828e"
           ],
           [
            0.5555555555555556,
            "#1f9e89"
           ],
           [
            0.6666666666666666,
            "#35b779"
           ],
           [
            0.7777777777777778,
            "#6ece58"
           ],
           [
            0.8888888888888888,
            "#b5de2b"
           ],
           [
            1,
            "#fde725"
           ]
          ],
          "opacity": 0.8,
          "size": 8
         },
         "mode": "markers",
         "text": [
          "Title: assembly language<br>Domain: programming",
          "Title: ARexx<br>Domain: programming",
          "Title: 4DOS<br>Domain: programming",
          "Title: mIRC scripting language<br>Domain: programming",
          "Title: Incr Tcl<br>Domain: programming",
          "Title: AMOS<br>Domain: programming",
          "Title: PL/I<br>Domain: programming",
          "Title: Prolog<br>Domain: programming",
          "Title: ActionScript<br>Domain: programming",
          "Title: chef<br>Domain: programming",
          "Title: Visual Basic<br>Domain: programming",
          "Title: Commodore BASIC<br>Domain: programming",
          "Title: Clojure<br>Domain: programming",
          "Title: Simula<br>Domain: programming",
          "Title: SQL<br>Domain: programming",
          "Title: Mathematica<br>Domain: programming",
          "Title: PL/SQL<br>Domain: programming",
          "Title: Control Language<br>Domain: programming",
          "Title: JavaScript<br>Domain: programming",
          "Title: wxBasic<br>Domain: programming",
          "Title: Perl<br>Domain: programming",
          "Title: ACUCOBOL<br>Domain: programming",
          "Title: Brainfuck<br>Domain: programming",
          "Title: Smalltalk<br>Domain: programming",
          "Title: R<br>Domain: programming",
          "Title: A-0 System<br>Domain: programming",
          "Title: BASIC<br>Domain: programming",
          "Title: Kent Recursive Calculator<br>Domain: programming",
          "Title: COBOL<br>Domain: programming",
          "Title: Zonnon<br>Domain: programming",
          "Title: Common Intermediate Language<br>Domain: programming",
          "Title: Extensible Application Markup Language<br>Domain: programming",
          "Title: XPath<br>Domain: programming",
          "Title: ARLA<br>Domain: programming",
          "Title: XSLT<br>Domain: programming",
          "Title: TeX<br>Domain: programming",
          "Title: Objective-C<br>Domain: programming",
          "Title: FlagShip<br>Domain: programming",
          "Title: A Manufacturing Language<br>Domain: programming",
          "Title: Cascading Style Sheets<br>Domain: programming",
          "Title: Altera Hardware Description Language<br>Domain: programming",
          "Title: DarkBASIC<br>Domain: programming",
          "Title: GNU Octave<br>Domain: programming",
          "Title: CHICKEN<br>Domain: programming",
          "Title: MSX BASIC<br>Domain: programming",
          "Title: ASIC<br>Domain: programming",
          "Title: Fortran<br>Domain: programming",
          "Title: SolidThinking Embed<br>Domain: programming",
          "Title: adenine<br>Domain: programming",
          "Title: Plankalkül<br>Domain: programming",
          "Title: XUpdate<br>Domain: programming",
          "Title: UCSD Pascal<br>Domain: programming",
          "Title: C--<br>Domain: programming",
          "Title: m4<br>Domain: programming",
          "Title: Zebra<br>Domain: programming",
          "Title: Active Server Pages<br>Domain: programming",
          "Title: C++<br>Domain: programming",
          "Title: IBM BASIC<br>Domain: programming",
          "Title: Pharo<br>Domain: programming",
          "Title: XACML<br>Domain: programming",
          "Title: WebGL<br>Domain: programming",
          "Title: Haskell<br>Domain: programming",
          "Title: FreeBASIC<br>Domain: programming",
          "Title: ASP.NET<br>Domain: programming",
          "Title: Ceylon<br>Domain: programming",
          "Title: dBase<br>Domain: programming",
          "Title: Active Oberon<br>Domain: programming",
          "Title: C<br>Domain: programming",
          "Title: D<br>Domain: programming",
          "Title: Altair BASIC<br>Domain: programming",
          "Title: Cyclone<br>Domain: programming",
          "Title: CLIPS<br>Domain: programming",
          "Title: PostScript<br>Domain: programming",
          "Title: CORC<br>Domain: programming",
          "Title: ALGOL<br>Domain: programming",
          "Title: Blitz BASIC<br>Domain: programming",
          "Title: Logo<br>Domain: programming",
          "Title: Maple<br>Domain: programming",
          "Title: C++/CX<br>Domain: programming",
          "Title: Newsqueak<br>Domain: programming",
          "Title: MATLAB<br>Domain: programming",
          "Title: nesC<br>Domain: programming",
          "Title: Haxe<br>Domain: programming",
          "Title: QBasic<br>Domain: programming",
          "Title: IBM RPG II<br>Domain: programming",
          "Title: Falcon<br>Domain: programming",
          "Title: Turing<br>Domain: programming",
          "Title: Integer BASIC<br>Domain: programming",
          "Title: Keysight VEE<br>Domain: programming",
          "Title: Just BASIC<br>Domain: programming",
          "Title: Rust<br>Domain: programming",
          "Title: x86 assembly language<br>Domain: programming",
          "Title: LOLCODE<br>Domain: programming",
          "Title: NATURAL<br>Domain: programming",
          "Title: JavaFX Script<br>Domain: programming",
          "Title: BASIC A+<br>Domain: programming",
          "Title: Sather<br>Domain: programming",
          "Title: CLIST<br>Domain: programming",
          "Title: Amiga Basic<br>Domain: programming",
          "Title: JScript<br>Domain: programming",
          "Title: Limbo<br>Domain: programming",
          "Title: SNOBOL<br>Domain: programming",
          "Title: NWScript<br>Domain: programming",
          "Title: MBASIC<br>Domain: programming",
          "Title: Apache Groovy<br>Domain: programming",
          "Title: Tiny BASIC<br>Domain: programming",
          "Title: Programmation Automatique des Formules<br>Domain: programming",
          "Title: OCaml<br>Domain: programming",
          "Title: True BASIC<br>Domain: programming",
          "Title: KTurtle<br>Domain: programming",
          "Title: CFEngine<br>Domain: programming",
          "Title: Transaction Application Language<br>Domain: programming",
          "Title: DIGITAL Command Language<br>Domain: programming",
          "Title: Cobra<br>Domain: programming",
          "Title: Grace<br>Domain: programming",
          "Title: Turbo Pascal<br>Domain: programming",
          "Title: Quartz Composer<br>Domain: programming",
          "Title: BBC BASIC<br>Domain: programming",
          "Title: TTCN-3<br>Domain: programming",
          "Title: Wiring<br>Domain: programming",
          "Title: G-code<br>Domain: programming",
          "Title: CLISP<br>Domain: programming",
          "Title: Malbolge<br>Domain: programming",
          "Title: batch file<br>Domain: programming",
          "Title: Lisp<br>Domain: programming",
          "Title: J<br>Domain: programming",
          "Title: Amiga E<br>Domain: programming",
          "Title: ABC ALGOL<br>Domain: programming",
          "Title: Inform<br>Domain: programming",
          "Title: Simulink<br>Domain: programming",
          "Title: Geometric Description Language<br>Domain: programming",
          "Title: Modelica<br>Domain: programming",
          "Title: Applesoft BASIC<br>Domain: programming",
          "Title: Instruction list<br>Domain: programming",
          "Title: 2.PAK<br>Domain: programming",
          "Title: XML User Interface Language<br>Domain: programming",
          "Title: Befunge<br>Domain: programming",
          "Title: Common Lisp<br>Domain: programming",
          "Title: Modula-2<br>Domain: programming",
          "Title: Jasmin<br>Domain: programming",
          "Title: REALBasic<br>Domain: programming",
          "Title: B<br>Domain: programming",
          "Title: REXX<br>Domain: programming",
          "Title: Script.NET<br>Domain: programming",
          "Title: Object Pascal<br>Domain: programming",
          "Title: RGSS<br>Domain: programming",
          "Title: Visual Basic for Applications<br>Domain: programming",
          "Title: AspectJ<br>Domain: programming",
          "Title: Atari BASIC<br>Domain: programming"
         ],
         "type": "scatter3d",
         "x": [
          -0.12005678355135045,
          -0.11777807753969982,
          -0.06820431275303769,
          -0.06808223297486374,
          -0.11203260298002478,
          0.3114832153901182,
          -0.19462548665757592,
          -0.14432409633047377,
          -0.026461917878404705,
          0.43201231792196815,
          -0.08800687973173305,
          -0.1539751592782536,
          -0.03390075350742338,
          -0.1757478656006538,
          -0.08276571509241644,
          -0.013470085124279874,
          -0.07880024560799734,
          -0.1913368006429704,
          0.04712333887734728,
          -0.20811585059089052,
          -0.022242660053553243,
          0.013626681874033089,
          -0.12395526443436253,
          -0.24514366022016618,
          0.4832010111381582,
          -0.1531423834307717,
          -0.21480754096858928,
          -0.15021210231623658,
          -0.1557539323679828,
          -0.13791262957377992,
          -0.08135097287041232,
          0.05241292728705689,
          0.119540098608135,
          0.3490426075131482,
          0.11012248387733661,
          -0.0275789155333967,
          -0.06879494576686755,
          0.4231627309150384,
          -0.0825580102900185,
          0.22451930905613277,
          -0.04210987607118111,
          -0.01436210931450943,
          -0.013777339555822582,
          0.4661317477932174,
          -0.14409508243187982,
          0.10678442300464139,
          -0.15774973541841397,
          0.07223347908885237,
          0.3229128874468687,
          -0.09745315701002362,
          0.07419520205596751,
          -0.1592687052488886,
          -0.12592702451287435,
          0.2817956251432893,
          0.5264681836864366,
          0.0036028233114176462,
          -0.07170611296612824,
          -0.18079519892112045,
          -0.15203337750886595,
          0.045688673783205486,
          0.12239327673027224,
          -0.12004932747134683,
          -0.21101063859292998,
          0.04317498045016112,
          0.4338264353301092,
          -0.07685355309353835,
          -0.06031376424841878,
          0.42061153595092315,
          0.44646898220491915,
          -0.1465881571382919,
          0.4387511817918308,
          -0.09719743009288288,
          -0.02851389985419795,
          -0.16570146110711223,
          -0.20614369228337368,
          -0.1526476448524496,
          0.3833659861643801,
          0.45647260297995007,
          -0.08849969426002768,
          -0.0985756102816967,
          -0.0062517126219890674,
          -0.13697221296602624,
          -0.042587014471461106,
          -0.23716137704672152,
          -0.2196212205578075,
          0.510910984951206,
          0.05553642568697182,
          -0.23206868563021693,
          0.010281216552937358,
          -0.2156867487646156,
          0.45128617843697455,
          -0.13468521927852797,
          -0.0413354446866429,
          -0.01283745677366349,
          0.002721620634393637,
          -0.16735963659197248,
          -0.14019778865380508,
          -0.10284222090483529,
          -0.21406898932066762,
          0.02957375295284348,
          0.4096889764833219,
          -0.15547963738971932,
          0.15947250442996505,
          -0.17862642608845491,
          -0.033960327775072845,
          -0.2330619283980921,
          -0.08531428268807392,
          -0.13754089618743057,
          -0.1989200542436876,
          0.0019329152374421893,
          -0.06281141027968848,
          -0.17809350930523962,
          -0.14016158174445323,
          0.5478442063840425,
          0.4500753623325299,
          -0.22427809857296996,
          0.04138896278703584,
          -0.2326960565016212,
          0.07160016626160372,
          0.2847091951513703,
          0.029573765490317986,
          -0.17331390409392375,
          -0.06036915630668447,
          0.031275360914994485,
          0.2540122776357115,
          0.4331095595646112,
          -0.1407547663232586,
          -0.19723480355510228,
          -0.0774611354236466,
          -0.08155549870822394,
          0.029008580548063326,
          -0.038883734029169614,
          -0.19444439841045652,
          -0.05648315830130018,
          0.08960309936417932,
          0.10159549848995124,
          -0.12396367998130323,
          -0.16581838981217922,
          -0.2086688840648386,
          0.522943514101622,
          -0.09440774723646254,
          0.3728866144991893,
          -0.13113204213589716,
          -0.10872258459609785,
          -0.21083254673758686,
          0.03380349493399797,
          -0.12753808437320363,
          0.009218254105327305,
          -0.23646230986856773
         ],
         "y": [
          0.13775285402051987,
          -0.041887358639456404,
          0.03245212493900752,
          -0.13034626300126506,
          -0.17444846475062326,
          0.08470660559459574,
          0.08824185315191148,
          0.00545210395755547,
          -0.2194865790691851,
          0.08654987004589805,
          0.0801261029647799,
          0.3731006312839523,
          -0.19737581565239318,
          -0.02826249883081137,
          -0.03645609815786085,
          -0.06383050754754979,
          -0.06372467293837564,
          0.05066257422611977,
          -0.24717054815174927,
          -0.03721453850692732,
          -0.046085422886385584,
          0.027716849115182254,
          0.013995346837687122,
          -0.08079595863298931,
          0.19265785914638492,
          0.12318891124003635,
          0.32925950182489155,
          -0.014956064894595509,
          0.10807491319330566,
          -0.10567972877511943,
          -0.09117938442348075,
          -0.3226498961247359,
          -0.3453820378062082,
          0.060099354033441126,
          -0.2970345588370301,
          0.10776215622514408,
          -0.008358861530926895,
          0.13132635328442174,
          0.025085026172623155,
          -0.1925725102683374,
          -0.10450277889579758,
          -0.06503939485193608,
          -0.1054730793669829,
          0.14537719264569388,
          0.20967912406894487,
          0.16498464333406654,
          0.11663392924345165,
          0.13419670773295422,
          0.10746491139522209,
          0.03337854833055523,
          -0.2987398876508986,
          0.13399728431793165,
          -0.06741885136912674,
          0.20554854967094158,
          0.11596994672394918,
          -0.22407053051171644,
          -0.06945376221155573,
          0.347022613659128,
          -0.17063477458571885,
          -0.21335431767275412,
          -0.3789456769587856,
          -0.16375912584879804,
          0.01374378271766179,
          -0.28720670542177695,
          0.042567440657122674,
          0.08936634572384157,
          -0.10307099900789991,
          0.16150494072706686,
          0.17033887108456472,
          0.25163164031141044,
          0.01800873564182145,
          -0.07137178939855397,
          -0.024599996875980787,
          0.06906170599460423,
          0.1053508548477854,
          0.05435666137823668,
          0.08896430546020086,
          0.1087000491183404,
          -0.19779841706112447,
          -0.15847317992000823,
          -0.014261462254641642,
          -0.10489861706042106,
          -0.3036285206093351,
          0.10889784430129136,
          0.11333238385300909,
          0.10358941079999659,
          0.18742364716932258,
          0.31568097364222053,
          -0.0676371036129523,
          0.3300364201149604,
          0.009914125881858669,
          0.09135211179310987,
          -0.15336407562569274,
          0.12509217785040652,
          -0.30008276304578185,
          0.3026451104437605,
          -0.12476440568674176,
          -0.10380470456906173,
          0.1628015477266289,
          -0.24796650152462532,
          -0.062062778224109605,
          0.08350782211513903,
          -0.08390675388011555,
          0.23619383587995804,
          -0.21984722907422816,
          0.251062752152853,
          0.14176847754550992,
          -0.15400434240636127,
          0.21340469718226052,
          0.06817863269970523,
          -0.12757002986232538,
          -0.04325447407147852,
          -0.02860367481612126,
          0.06442743893619553,
          -0.006165374646035845,
          0.06093996589177407,
          -0.18359187601018453,
          0.30227718368484446,
          -0.16896569489408172,
          -0.013115383407064174,
          0.09380172866895721,
          -0.09911083887725286,
          -0.08551779766530108,
          0.10430650800038165,
          0.03517511606208188,
          0.16577001095738017,
          -0.013340822882026787,
          0.12092330916459697,
          -0.05949309204001435,
          -0.1768018178965041,
          -0.11618008070535117,
          -0.1197232771925028,
          0.3076193951175543,
          -0.007891699475749981,
          0.21534597968949978,
          -0.32126174915676536,
          -0.05216093099005957,
          -0.08907547994417553,
          -0.022562447496839444,
          0.02101248046767695,
          -0.07639732824922281,
          0.2612507811183925,
          -0.07245882588128746,
          -0.23366534629134728,
          -0.02140722105110887,
          -0.0698541222083663,
          0.06279030688159468,
          -0.3154895895851089,
          0.30611731806988834
         ],
         "z": [
          -0.10268777142474467,
          0.18493427621938655,
          0.2287425561507807,
          0.1705881068372151,
          -0.030470516579292267,
          0.15081127470048888,
          -0.18857877252135394,
          -0.30798369315570606,
          0.1608863937884476,
          -0.061515399050209786,
          0.1785611586163636,
          0.1362282800087997,
          -0.20670061273743603,
          -0.13849939242720474,
          -0.04315540980151095,
          -0.14541517052746694,
          0.021025385502020665,
          0.006432167578366991,
          0.018259169003046177,
          0.22256580653195085,
          -0.19553275348304144,
          0.12581536041846172,
          -0.18452046312991588,
          -0.06790043439777702,
          -0.1330110457095281,
          -0.11099168914957723,
          0.03227711087729555,
          -0.20482923055116117,
          -0.11670691427725155,
          -0.08782802180701951,
          0.010101959126802987,
          0.16175873843125388,
          0.013135393456151175,
          -0.08714097125768153,
          -0.040999009447887556,
          -0.10873765549860333,
          -0.07528544177060785,
          0.04585720854743564,
          -0.040532535165475024,
          0.03860310617829213,
          -0.026574316688172322,
          0.22573755290953945,
          -0.13966305135335272,
          -0.05631014670571028,
          0.3028236099149977,
          0.008435768460396696,
          -0.19236267073811744,
          -0.03623445068747803,
          -0.04048655955789558,
          -0.2667456415390557,
          0.027189231780818914,
          -0.09426595638134137,
          -0.2323263794486263,
          0.1730978979672175,
          0.02098247694922226,
          0.21157556059051555,
          -0.207128612196104,
          0.10516906164871563,
          -0.012665694646494474,
          0.07641585646976644,
          0.12908881392576077,
          -0.2770261757157226,
          0.07818234035708481,
          0.18906149927606758,
          -0.0375654976118247,
          0.11296188586280986,
          0.03369441668925514,
          -0.23124690402993128,
          -0.14314623221985817,
          0.13527869256093572,
          -0.013874514328715986,
          -0.00539012399326024,
          0.01913036201357631,
          -0.2007471359551472,
          -0.30128824099220564,
          0.18635231110586375,
          -0.041465304367732124,
          0.01861209722501103,
          0.1524075037018045,
          -0.12556423853061374,
          -0.12200225322753265,
          0.04775771679100123,
          0.0029102164111072405,
          0.18912243956100577,
          0.05281383076023984,
          0.07063066386417516,
          -0.283827760335328,
          0.09795670233143781,
          0.06212242629540431,
          0.028885848196577062,
          0.029155713927022642,
          -0.008318465351860467,
          -0.13797894620600235,
          0.20590958257893602,
          0.18647626493382755,
          0.15261586008974257,
          -0.14563346480763542,
          0.04011576863816385,
          0.2791739009734076,
          0.24598575787617583,
          -0.05907546329550566,
          -0.19875621146056233,
          0.2306473987280673,
          0.2190233673378618,
          -0.05888793614817994,
          0.040444270790969745,
          -0.12703445096659896,
          -0.23513667741206615,
          0.03993139657078934,
          -0.21296955486497982,
          0.0006700421962836809,
          -0.117369999872332,
          0.030844122863506847,
          0.027055252667693167,
          -0.009072980549930883,
          0.014237045914729655,
          0.1790168882285892,
          -0.027765464165819306,
          -0.008267804442386424,
          0.05929285835311155,
          -0.03723525038663111,
          -0.11051813520687048,
          -0.21051368393433445,
          0.2534672143213246,
          -0.11138215333013468,
          -0.11063599091244991,
          0.10715906365511893,
          -0.3000948287257806,
          -0.0007827274847594476,
          0.02072495379893384,
          -0.006341715848936305,
          -0.047257485958458585,
          0.19144480337612976,
          -0.029427511596167542,
          0.25261542671030773,
          0.10636636749101304,
          -0.0834094239304934,
          -0.1470420133627947,
          -0.10326675654560188,
          0.061798119953897154,
          0.09921617398105657,
          -0.08340768539210121,
          0.11097071593681067,
          0.12427495241593944,
          -0.07982692486889956,
          0.17244050235777553,
          0.18383156107278398,
          0.06300985445954703,
          0.18144503435656165
         ]
        }
       ],
       "layout": {
        "hovermode": "closest",
        "margin": {
         "b": 0,
         "l": 0,
         "r": 0,
         "t": 40
        },
        "scene": {
         "camera": {
          "center": {
           "x": 0,
           "y": 0,
           "z": 0
          },
          "eye": {
           "x": 1.5,
           "y": 1.5,
           "z": 1.5
          },
          "up": {
           "x": 0,
           "y": 0,
           "z": 1
          }
         },
         "xaxis": {
          "backgroundcolor": "rgb(230, 230, 230)",
          "gridcolor": "white",
          "gridwidth": 2,
          "showbackground": true,
          "showgrid": true,
          "title": {
           "text": "X"
          },
          "zerolinecolor": "white"
         },
         "yaxis": {
          "backgroundcolor": "rgb(230, 230, 230)",
          "gridcolor": "white",
          "gridwidth": 2,
          "showbackground": true,
          "showgrid": true,
          "title": {
           "text": "Y"
          },
          "zerolinecolor": "white"
         },
         "zaxis": {
          "backgroundcolor": "rgb(230, 230, 230)",
          "gridcolor": "white",
          "gridwidth": 2,
          "showbackground": true,
          "showgrid": true,
          "title": {
           "text": "Z"
          },
          "zerolinecolor": "white"
         }
        },
        "showlegend": false,
        "template": {
         "data": {
          "bar": [
           {
            "error_x": {
             "color": "#2a3f5f"
            },
            "error_y": {
             "color": "#2a3f5f"
            },
            "marker": {
             "line": {
              "color": "#E5ECF6",
              "width": 0.5
             },
             "pattern": {
              "fillmode": "overlay",
              "size": 10,
              "solidity": 0.2
             }
            },
            "type": "bar"
           }
          ],
          "barpolar": [
           {
            "marker": {
             "line": {
              "color": "#E5ECF6",
              "width": 0.5
             },
             "pattern": {
              "fillmode": "overlay",
              "size": 10,
              "solidity": 0.2
             }
            },
            "type": "barpolar"
           }
          ],
          "carpet": [
           {
            "aaxis": {
             "endlinecolor": "#2a3f5f",
             "gridcolor": "white",
             "linecolor": "white",
             "minorgridcolor": "white",
             "startlinecolor": "#2a3f5f"
            },
            "baxis": {
             "endlinecolor": "#2a3f5f",
             "gridcolor": "white",
             "linecolor": "white",
             "minorgridcolor": "white",
             "startlinecolor": "#2a3f5f"
            },
            "type": "carpet"
           }
          ],
          "choropleth": [
           {
            "colorbar": {
             "outlinewidth": 0,
             "ticks": ""
            },
            "type": "choropleth"
           }
          ],
          "contour": [
           {
            "colorbar": {
             "outlinewidth": 0,
             "ticks": ""
            },
            "colorscale": [
             [
              0,
              "#0d0887"
             ],
             [
              0.1111111111111111,
              "#46039f"
             ],
             [
              0.2222222222222222,
              "#7201a8"
             ],
             [
              0.3333333333333333,
              "#9c179e"
             ],
             [
              0.4444444444444444,
              "#bd3786"
             ],
             [
              0.5555555555555556,
              "#d8576b"
             ],
             [
              0.6666666666666666,
              "#ed7953"
             ],
             [
              0.7777777777777778,
              "#fb9f3a"
             ],
             [
              0.8888888888888888,
              "#fdca26"
             ],
             [
              1,
              "#f0f921"
             ]
            ],
            "type": "contour"
           }
          ],
          "contourcarpet": [
           {
            "colorbar": {
             "outlinewidth": 0,
             "ticks": ""
            },
            "type": "contourcarpet"
           }
          ],
          "heatmap": [
           {
            "colorbar": {
             "outlinewidth": 0,
             "ticks": ""
            },
            "colorscale": [
             [
              0,
              "#0d0887"
             ],
             [
              0.1111111111111111,
              "#46039f"
             ],
             [
              0.2222222222222222,
              "#7201a8"
             ],
             [
              0.3333333333333333,
              "#9c179e"
             ],
             [
              0.4444444444444444,
              "#bd3786"
             ],
             [
              0.5555555555555556,
              "#d8576b"
             ],
             [
              0.6666666666666666,
              "#ed7953"
             ],
             [
              0.7777777777777778,
              "#fb9f3a"
             ],
             [
              0.8888888888888888,
              "#fdca26"
             ],
             [
              1,
              "#f0f921"
             ]
            ],
            "type": "heatmap"
           }
          ],
          "histogram": [
           {
            "marker": {
             "pattern": {
              "fillmode": "overlay",
              "size": 10,
              "solidity": 0.2
             }
            },
            "type": "histogram"
           }
          ],
          "histogram2d": [
           {
            "colorbar": {
             "outlinewidth": 0,
             "ticks": ""
            },
            "colorscale": [
             [
              0,
              "#0d0887"
             ],
             [
              0.1111111111111111,
              "#46039f"
             ],
             [
              0.2222222222222222,
              "#7201a8"
             ],
             [
              0.3333333333333333,
              "#9c179e"
             ],
             [
              0.4444444444444444,
              "#bd3786"
             ],
             [
              0.5555555555555556,
              "#d8576b"
             ],
             [
              0.6666666666666666,
              "#ed7953"
             ],
             [
              0.7777777777777778,
              "#fb9f3a"
             ],
             [
              0.8888888888888888,
              "#fdca26"
             ],
             [
              1,
              "#f0f921"
             ]
            ],
            "type": "histogram2d"
           }
          ],
          "histogram2dcontour": [
           {
            "colorbar": {
             "outlinewidth": 0,
             "ticks": ""
            },
            "colorscale": [
             [
              0,
              "#0d0887"
             ],
             [
              0.1111111111111111,
              "#46039f"
             ],
             [
              0.2222222222222222,
              "#7201a8"
             ],
             [
              0.3333333333333333,
              "#9c179e"
             ],
             [
              0.4444444444444444,
              "#bd3786"
             ],
             [
              0.5555555555555556,
              "#d8576b"
             ],
             [
              0.6666666666666666,
              "#ed7953"
             ],
             [
              0.7777777777777778,
              "#fb9f3a"
             ],
             [
              0.8888888888888888,
              "#fdca26"
             ],
             [
              1,
              "#f0f921"
             ]
            ],
            "type": "histogram2dcontour"
           }
          ],
          "mesh3d": [
           {
            "colorbar": {
             "outlinewidth": 0,
             "ticks": ""
            },
            "type": "mesh3d"
           }
          ],
          "parcoords": [
           {
            "line": {
             "colorbar": {
              "outlinewidth": 0,
              "ticks": ""
             }
            },
            "type": "parcoords"
           }
          ],
          "pie": [
           {
            "automargin": true,
            "type": "pie"
           }
          ],
          "scatter": [
           {
            "fillpattern": {
             "fillmode": "overlay",
             "size": 10,
             "solidity": 0.2
            },
            "type": "scatter"
           }
          ],
          "scatter3d": [
           {
            "line": {
             "colorbar": {
              "outlinewidth": 0,
              "ticks": ""
             }
            },
            "marker": {
             "colorbar": {
              "outlinewidth": 0,
              "ticks": ""
             }
            },
            "type": "scatter3d"
           }
          ],
          "scattercarpet": [
           {
            "marker": {
             "colorbar": {
              "outlinewidth": 0,
              "ticks": ""
             }
            },
            "type": "scattercarpet"
           }
          ],
          "scattergeo": [
           {
            "marker": {
             "colorbar": {
              "outlinewidth": 0,
              "ticks": ""
             }
            },
            "type": "scattergeo"
           }
          ],
          "scattergl": [
           {
            "marker": {
             "colorbar": {
              "outlinewidth": 0,
              "ticks": ""
             }
            },
            "type": "scattergl"
           }
          ],
          "scattermap": [
           {
            "marker": {
             "colorbar": {
              "outlinewidth": 0,
              "ticks": ""
             }
            },
            "type": "scattermap"
           }
          ],
          "scattermapbox": [
           {
            "marker": {
             "colorbar": {
              "outlinewidth": 0,
              "ticks": ""
             }
            },
            "type": "scattermapbox"
           }
          ],
          "scatterpolar": [
           {
            "marker": {
             "colorbar": {
              "outlinewidth": 0,
              "ticks": ""
             }
            },
            "type": "scatterpolar"
           }
          ],
          "scatterpolargl": [
           {
            "marker": {
             "colorbar": {
              "outlinewidth": 0,
              "ticks": ""
             }
            },
            "type": "scatterpolargl"
           }
          ],
          "scatterternary": [
           {
            "marker": {
             "colorbar": {
              "outlinewidth": 0,
              "ticks": ""
             }
            },
            "type": "scatterternary"
           }
          ],
          "surface": [
           {
            "colorbar": {
             "outlinewidth": 0,
             "ticks": ""
            },
            "colorscale": [
             [
              0,
              "#0d0887"
             ],
             [
              0.1111111111111111,
              "#46039f"
             ],
             [
              0.2222222222222222,
              "#7201a8"
             ],
             [
              0.3333333333333333,
              "#9c179e"
             ],
             [
              0.4444444444444444,
              "#bd3786"
             ],
             [
              0.5555555555555556,
              "#d8576b"
             ],
             [
              0.6666666666666666,
              "#ed7953"
             ],
             [
              0.7777777777777778,
              "#fb9f3a"
             ],
             [
              0.8888888888888888,
              "#fdca26"
             ],
             [
              1,
              "#f0f921"
             ]
            ],
            "type": "surface"
           }
          ],
          "table": [
           {
            "cells": {
             "fill": {
              "color": "#EBF0F8"
             },
             "line": {
              "color": "white"
             }
            },
            "header": {
             "fill": {
              "color": "#C8D4E3"
             },
             "line": {
              "color": "white"
             }
            },
            "type": "table"
           }
          ]
         },
         "layout": {
          "annotationdefaults": {
           "arrowcolor": "#2a3f5f",
           "arrowhead": 0,
           "arrowwidth": 1
          },
          "autotypenumbers": "strict",
          "coloraxis": {
           "colorbar": {
            "outlinewidth": 0,
            "ticks": ""
           }
          },
          "colorscale": {
           "diverging": [
            [
             0,
             "#8e0152"
            ],
            [
             0.1,
             "#c51b7d"
            ],
            [
             0.2,
             "#de77ae"
            ],
            [
             0.3,
             "#f1b6da"
            ],
            [
             0.4,
             "#fde0ef"
            ],
            [
             0.5,
             "#f7f7f7"
            ],
            [
             0.6,
             "#e6f5d0"
            ],
            [
             0.7,
             "#b8e186"
            ],
            [
             0.8,
             "#7fbc41"
            ],
            [
             0.9,
             "#4d9221"
            ],
            [
             1,
             "#276419"
            ]
           ],
           "sequential": [
            [
             0,
             "#0d0887"
            ],
            [
             0.1111111111111111,
             "#46039f"
            ],
            [
             0.2222222222222222,
             "#7201a8"
            ],
            [
             0.3333333333333333,
             "#9c179e"
            ],
            [
             0.4444444444444444,
             "#bd3786"
            ],
            [
             0.5555555555555556,
             "#d8576b"
            ],
            [
             0.6666666666666666,
             "#ed7953"
            ],
            [
             0.7777777777777778,
             "#fb9f3a"
            ],
            [
             0.8888888888888888,
             "#fdca26"
            ],
            [
             1,
             "#f0f921"
            ]
           ],
           "sequentialminus": [
            [
             0,
             "#0d0887"
            ],
            [
             0.1111111111111111,
             "#46039f"
            ],
            [
             0.2222222222222222,
             "#7201a8"
            ],
            [
             0.3333333333333333,
             "#9c179e"
            ],
            [
             0.4444444444444444,
             "#bd3786"
            ],
            [
             0.5555555555555556,
             "#d8576b"
            ],
            [
             0.6666666666666666,
             "#ed7953"
            ],
            [
             0.7777777777777778,
             "#fb9f3a"
            ],
            [
             0.8888888888888888,
             "#fdca26"
            ],
            [
             1,
             "#f0f921"
            ]
           ]
          },
          "colorway": [
           "#636efa",
           "#EF553B",
           "#00cc96",
           "#ab63fa",
           "#FFA15A",
           "#19d3f3",
           "#FF6692",
           "#B6E880",
           "#FF97FF",
           "#FECB52"
          ],
          "font": {
           "color": "#2a3f5f"
          },
          "geo": {
           "bgcolor": "white",
           "lakecolor": "white",
           "landcolor": "#E5ECF6",
           "showlakes": true,
           "showland": true,
           "subunitcolor": "white"
          },
          "hoverlabel": {
           "align": "left"
          },
          "hovermode": "closest",
          "mapbox": {
           "style": "light"
          },
          "paper_bgcolor": "white",
          "plot_bgcolor": "#E5ECF6",
          "polar": {
           "angularaxis": {
            "gridcolor": "white",
            "linecolor": "white",
            "ticks": ""
           },
           "bgcolor": "#E5ECF6",
           "radialaxis": {
            "gridcolor": "white",
            "linecolor": "white",
            "ticks": ""
           }
          },
          "scene": {
           "xaxis": {
            "backgroundcolor": "#E5ECF6",
            "gridcolor": "white",
            "gridwidth": 2,
            "linecolor": "white",
            "showbackground": true,
            "ticks": "",
            "zerolinecolor": "white"
           },
           "yaxis": {
            "backgroundcolor": "#E5ECF6",
            "gridcolor": "white",
            "gridwidth": 2,
            "linecolor": "white",
            "showbackground": true,
            "ticks": "",
            "zerolinecolor": "white"
           },
           "zaxis": {
            "backgroundcolor": "#E5ECF6",
            "gridcolor": "white",
            "gridwidth": 2,
            "linecolor": "white",
            "showbackground": true,
            "ticks": "",
            "zerolinecolor": "white"
           }
          },
          "shapedefaults": {
           "line": {
            "color": "#2a3f5f"
           }
          },
          "ternary": {
           "aaxis": {
            "gridcolor": "white",
            "linecolor": "white",
            "ticks": ""
           },
           "baxis": {
            "gridcolor": "white",
            "linecolor": "white",
            "ticks": ""
           },
           "bgcolor": "#E5ECF6",
           "caxis": {
            "gridcolor": "white",
            "linecolor": "white",
            "ticks": ""
           }
          },
          "title": {
           "x": 0.05
          },
          "xaxis": {
           "automargin": true,
           "gridcolor": "white",
           "linecolor": "white",
           "ticks": "",
           "title": {
            "standoff": 15
           },
           "zerolinecolor": "white",
           "zerolinewidth": 2
          },
          "yaxis": {
           "automargin": true,
           "gridcolor": "white",
           "linecolor": "white",
           "ticks": "",
           "title": {
            "standoff": 15
           },
           "zerolinecolor": "white",
           "zerolinewidth": 2
          }
         }
        },
        "title": {
         "text": "Interactive 3D PCA Network of Topic Embeddings"
        }
       }
      }
     },
     "metadata": {},
     "output_type": "display_data"
    },
    {
     "name": "stdout",
     "output_type": "stream",
     "text": [
      "Displaying interactive t-SNE visualization...\n"
     ]
    },
    {
     "data": {
      "application/vnd.plotly.v1+json": {
       "config": {
        "plotlyServerURL": "https://plot.ly"
       },
       "data": [
        {
         "hoverinfo": "none",
         "line": {
          "color": "lightgrey",
          "width": 1
         },
         "mode": "lines",
         "type": "scatter3d",
         "x": [
          2.430203676223755,
          1.954529047012329,
          null,
          -26.587453842163086,
          -31.80535125732422,
          null,
          15.26087760925293,
          20.040815353393555,
          null,
          -20.1073055267334,
          11.423283576965332,
          null,
          354.23876953125,
          -154.63951110839844,
          null,
          -85.36170196533203,
          22.84279441833496,
          null,
          -130.46018981933594,
          -26.727327346801758,
          null,
          -130.46018981933594,
          -36.3724365234375,
          null,
          -130.46018981933594,
          -34.44137191772461,
          null,
          -130.46018981933594,
          -38.63008499145508,
          null,
          8.769232749938965,
          12.69487476348877,
          null,
          -21.52618408203125,
          -26.727327346801758,
          null,
          -21.52618408203125,
          -20.181406021118164,
          null,
          6.463954925537109,
          25.680221557617188,
          null,
          53.807945251464844,
          -10.169493675231934,
          null,
          -26.727327346801758,
          -36.3724365234375,
          null,
          -9.126392364501953,
          -12.827816009521484,
          null,
          -44.5805549621582,
          12.928807258605957,
          null,
          -37.47312927246094,
          3.424509048461914,
          null,
          -36.3724365234375,
          -34.44137191772461,
          null,
          -36.3724365234375,
          -38.63008499145508,
          null,
          -19.434043884277344,
          -17.753503799438477,
          null,
          23.215517044067383,
          18.770540237426758,
          null
         ],
         "y": [
          -29.509798049926758,
          -24.395536422729492,
          null,
          10.671571731567383,
          12.688406944274902,
          null,
          -14.12981128692627,
          -11.159558296203613,
          null,
          -42.81919479370117,
          50.120155334472656,
          null,
          273.1344909667969,
          -270.2322998046875,
          null,
          55.73618698120117,
          16.257322311401367,
          null,
          46.254581451416016,
          -2.4121005535125732,
          null,
          46.254581451416016,
          -0.8467016220092773,
          null,
          46.254581451416016,
          1.7841694355010986,
          null,
          46.254581451416016,
          -9.627012252807617,
          null,
          37.80670928955078,
          39.85416793823242,
          null,
          2.1092746257781982,
          -2.4121005535125732,
          null,
          2.1092746257781982,
          6.661011695861816,
          null,
          17.472253799438477,
          -25.596803665161133,
          null,
          34.23594284057617,
          33.95126724243164,
          null,
          -2.4121005535125732,
          -0.8467016220092773,
          null,
          3.1965956687927246,
          -0.9403213262557983,
          null,
          21.17826271057129,
          -17.276826858520508,
          null,
          -11.3392972946167,
          22.926042556762695,
          null,
          -0.8467016220092773,
          1.7841694355010986,
          null,
          -0.8467016220092773,
          -9.627012252807617,
          null,
          -14.31894588470459,
          -11.179107666015625,
          null,
          -4.417835712432861,
          -0.819781482219696,
          null
         ],
         "z": [
          -3.1108574867248535,
          -5.812158584594727,
          null,
          4.283106803894043,
          2.304959535598755,
          null,
          12.915526390075684,
          15.071340560913086,
          null,
          -3.5188708305358887,
          14.097491264343262,
          null,
          -0.5408893823623657,
          -22.53477668762207,
          null,
          -6.157302379608154,
          -28.248172760009766,
          null,
          -30.602792739868164,
          14.92672061920166,
          null,
          -30.602792739868164,
          20.418792724609375,
          null,
          -30.602792739868164,
          28.526016235351562,
          null,
          -30.602792739868164,
          22.3979549407959,
          null,
          -11.544991493225098,
          -7.809420585632324,
          null,
          14.8976411819458,
          14.92672061920166,
          null,
          14.8976411819458,
          8.566996574401855,
          null,
          0.5602814555168152,
          10.442882537841797,
          null,
          45.565921783447266,
          -23.61603546142578,
          null,
          14.92672061920166,
          20.418792724609375,
          null,
          -26.789146423339844,
          -24.13389015197754,
          null,
          -104.64301300048828,
          37.43877029418945,
          null,
          1.615877628326416,
          -37.46665954589844,
          null,
          20.418792724609375,
          28.526016235351562,
          null,
          20.418792724609375,
          22.3979549407959,
          null,
          -0.9629266858100891,
          3.527456045150757,
          null,
          -4.990381240844727,
          -4.378844261169434,
          null
         ]
        },
        {
         "hoverinfo": "text",
         "marker": {
          "color": [
           0,
           1,
           2,
           3,
           4,
           5,
           6,
           7,
           8,
           9,
           10,
           11,
           12,
           13,
           14,
           15,
           16,
           17,
           18,
           19,
           20,
           21,
           22,
           23,
           24,
           25,
           26,
           27,
           28,
           29,
           30,
           31,
           32,
           33,
           34,
           35,
           36,
           37,
           38,
           39,
           40,
           41,
           42,
           43,
           44,
           45,
           46,
           47,
           48,
           49,
           50,
           51,
           52,
           53,
           54,
           55,
           56,
           57,
           58,
           59,
           60,
           61,
           62,
           63,
           64,
           65,
           66,
           67,
           68,
           69,
           70,
           71,
           72,
           73,
           74,
           75,
           76,
           77,
           78,
           79,
           80,
           81,
           82,
           83,
           84,
           85,
           86,
           87,
           88,
           89,
           90,
           91,
           92,
           93,
           94,
           95,
           96,
           97,
           98,
           99,
           100,
           101,
           102,
           103,
           104,
           105,
           106,
           107,
           108,
           109,
           110,
           111,
           112,
           113,
           114,
           115,
           116,
           117,
           118,
           119,
           120,
           121,
           122,
           123,
           124,
           125,
           126,
           127,
           128,
           129,
           130,
           131,
           132,
           133,
           134,
           135,
           136,
           137,
           138,
           139,
           140,
           141,
           142,
           143,
           144,
           145,
           146,
           147,
           148
          ],
          "colorbar": {
           "thickness": 20,
           "title": {
            "text": "Node Index"
           }
          },
          "colorscale": [
           [
            0,
            "#440154"
           ],
           [
            0.1111111111111111,
            "#482878"
           ],
           [
            0.2222222222222222,
            "#3e4989"
           ],
           [
            0.3333333333333333,
            "#31688e"
           ],
           [
            0.4444444444444444,
            "#26828e"
           ],
           [
            0.5555555555555556,
            "#1f9e89"
           ],
           [
            0.6666666666666666,
            "#35b779"
           ],
           [
            0.7777777777777778,
            "#6ece58"
           ],
           [
            0.8888888888888888,
            "#b5de2b"
           ],
           [
            1,
            "#fde725"
           ]
          ],
          "opacity": 0.8,
          "size": 8
         },
         "mode": "markers",
         "text": [
          "Title: assembly language<br>Domain: programming",
          "Title: ARexx<br>Domain: programming",
          "Title: 4DOS<br>Domain: programming",
          "Title: mIRC scripting language<br>Domain: programming",
          "Title: Incr Tcl<br>Domain: programming",
          "Title: AMOS<br>Domain: programming",
          "Title: PL/I<br>Domain: programming",
          "Title: Prolog<br>Domain: programming",
          "Title: ActionScript<br>Domain: programming",
          "Title: chef<br>Domain: programming",
          "Title: Visual Basic<br>Domain: programming",
          "Title: Commodore BASIC<br>Domain: programming",
          "Title: Clojure<br>Domain: programming",
          "Title: Simula<br>Domain: programming",
          "Title: SQL<br>Domain: programming",
          "Title: Mathematica<br>Domain: programming",
          "Title: PL/SQL<br>Domain: programming",
          "Title: Control Language<br>Domain: programming",
          "Title: JavaScript<br>Domain: programming",
          "Title: wxBasic<br>Domain: programming",
          "Title: Perl<br>Domain: programming",
          "Title: ACUCOBOL<br>Domain: programming",
          "Title: Brainfuck<br>Domain: programming",
          "Title: Smalltalk<br>Domain: programming",
          "Title: R<br>Domain: programming",
          "Title: A-0 System<br>Domain: programming",
          "Title: BASIC<br>Domain: programming",
          "Title: Kent Recursive Calculator<br>Domain: programming",
          "Title: COBOL<br>Domain: programming",
          "Title: Zonnon<br>Domain: programming",
          "Title: Common Intermediate Language<br>Domain: programming",
          "Title: Extensible Application Markup Language<br>Domain: programming",
          "Title: XPath<br>Domain: programming",
          "Title: ARLA<br>Domain: programming",
          "Title: XSLT<br>Domain: programming",
          "Title: TeX<br>Domain: programming",
          "Title: Objective-C<br>Domain: programming",
          "Title: FlagShip<br>Domain: programming",
          "Title: A Manufacturing Language<br>Domain: programming",
          "Title: Cascading Style Sheets<br>Domain: programming",
          "Title: Altera Hardware Description Language<br>Domain: programming",
          "Title: DarkBASIC<br>Domain: programming",
          "Title: GNU Octave<br>Domain: programming",
          "Title: CHICKEN<br>Domain: programming",
          "Title: MSX BASIC<br>Domain: programming",
          "Title: ASIC<br>Domain: programming",
          "Title: Fortran<br>Domain: programming",
          "Title: SolidThinking Embed<br>Domain: programming",
          "Title: adenine<br>Domain: programming",
          "Title: Plankalkül<br>Domain: programming",
          "Title: XUpdate<br>Domain: programming",
          "Title: UCSD Pascal<br>Domain: programming",
          "Title: C--<br>Domain: programming",
          "Title: m4<br>Domain: programming",
          "Title: Zebra<br>Domain: programming",
          "Title: Active Server Pages<br>Domain: programming",
          "Title: C++<br>Domain: programming",
          "Title: IBM BASIC<br>Domain: programming",
          "Title: Pharo<br>Domain: programming",
          "Title: XACML<br>Domain: programming",
          "Title: WebGL<br>Domain: programming",
          "Title: Haskell<br>Domain: programming",
          "Title: FreeBASIC<br>Domain: programming",
          "Title: ASP.NET<br>Domain: programming",
          "Title: Ceylon<br>Domain: programming",
          "Title: dBase<br>Domain: programming",
          "Title: Active Oberon<br>Domain: programming",
          "Title: C<br>Domain: programming",
          "Title: D<br>Domain: programming",
          "Title: Altair BASIC<br>Domain: programming",
          "Title: Cyclone<br>Domain: programming",
          "Title: CLIPS<br>Domain: programming",
          "Title: PostScript<br>Domain: programming",
          "Title: CORC<br>Domain: programming",
          "Title: ALGOL<br>Domain: programming",
          "Title: Blitz BASIC<br>Domain: programming",
          "Title: Logo<br>Domain: programming",
          "Title: Maple<br>Domain: programming",
          "Title: C++/CX<br>Domain: programming",
          "Title: Newsqueak<br>Domain: programming",
          "Title: MATLAB<br>Domain: programming",
          "Title: nesC<br>Domain: programming",
          "Title: Haxe<br>Domain: programming",
          "Title: QBasic<br>Domain: programming",
          "Title: IBM RPG II<br>Domain: programming",
          "Title: Falcon<br>Domain: programming",
          "Title: Turing<br>Domain: programming",
          "Title: Integer BASIC<br>Domain: programming",
          "Title: Keysight VEE<br>Domain: programming",
          "Title: Just BASIC<br>Domain: programming",
          "Title: Rust<br>Domain: programming",
          "Title: x86 assembly language<br>Domain: programming",
          "Title: LOLCODE<br>Domain: programming",
          "Title: NATURAL<br>Domain: programming",
          "Title: JavaFX Script<br>Domain: programming",
          "Title: BASIC A+<br>Domain: programming",
          "Title: Sather<br>Domain: programming",
          "Title: CLIST<br>Domain: programming",
          "Title: Amiga Basic<br>Domain: programming",
          "Title: JScript<br>Domain: programming",
          "Title: Limbo<br>Domain: programming",
          "Title: SNOBOL<br>Domain: programming",
          "Title: NWScript<br>Domain: programming",
          "Title: MBASIC<br>Domain: programming",
          "Title: Apache Groovy<br>Domain: programming",
          "Title: Tiny BASIC<br>Domain: programming",
          "Title: Programmation Automatique des Formules<br>Domain: programming",
          "Title: OCaml<br>Domain: programming",
          "Title: True BASIC<br>Domain: programming",
          "Title: KTurtle<br>Domain: programming",
          "Title: CFEngine<br>Domain: programming",
          "Title: Transaction Application Language<br>Domain: programming",
          "Title: DIGITAL Command Language<br>Domain: programming",
          "Title: Cobra<br>Domain: programming",
          "Title: Grace<br>Domain: programming",
          "Title: Turbo Pascal<br>Domain: programming",
          "Title: Quartz Composer<br>Domain: programming",
          "Title: BBC BASIC<br>Domain: programming",
          "Title: TTCN-3<br>Domain: programming",
          "Title: Wiring<br>Domain: programming",
          "Title: G-code<br>Domain: programming",
          "Title: CLISP<br>Domain: programming",
          "Title: Malbolge<br>Domain: programming",
          "Title: batch file<br>Domain: programming",
          "Title: Lisp<br>Domain: programming",
          "Title: J<br>Domain: programming",
          "Title: Amiga E<br>Domain: programming",
          "Title: ABC ALGOL<br>Domain: programming",
          "Title: Inform<br>Domain: programming",
          "Title: Simulink<br>Domain: programming",
          "Title: Geometric Description Language<br>Domain: programming",
          "Title: Modelica<br>Domain: programming",
          "Title: Applesoft BASIC<br>Domain: programming",
          "Title: Instruction list<br>Domain: programming",
          "Title: 2.PAK<br>Domain: programming",
          "Title: XML User Interface Language<br>Domain: programming",
          "Title: Befunge<br>Domain: programming",
          "Title: Common Lisp<br>Domain: programming",
          "Title: Modula-2<br>Domain: programming",
          "Title: Jasmin<br>Domain: programming",
          "Title: REALBasic<br>Domain: programming",
          "Title: B<br>Domain: programming",
          "Title: REXX<br>Domain: programming",
          "Title: Script.NET<br>Domain: programming",
          "Title: Object Pascal<br>Domain: programming",
          "Title: RGSS<br>Domain: programming",
          "Title: Visual Basic for Applications<br>Domain: programming",
          "Title: AspectJ<br>Domain: programming",
          "Title: Atari BASIC<br>Domain: programming"
         ],
         "type": "scatter3d",
         "x": [
          2.430203676223755,
          -26.587453842163086,
          41.63322830200195,
          21.16178321838379,
          11.80617904663086,
          -37.09273147583008,
          15.26087760925293,
          39.10404968261719,
          22.23628044128418,
          -33.37883377075195,
          -20.1073055267334,
          -25.65523338317871,
          19.412263870239258,
          26.166074752807617,
          -6.955612659454346,
          23.680818557739258,
          -1.3828654289245605,
          354.23876953125,
          -85.36170196533203,
          -11.0999174118042,
          10.715444564819336,
          -13.340219497680664,
          -31.945554733276367,
          -1.7651965618133545,
          -8.64920711517334,
          15.503198623657227,
          -130.46018981933594,
          -1.9010945558547974,
          -9.366459846496582,
          9.1238431930542,
          12.096185684204102,
          -5.000669002532959,
          8.769232749938965,
          -10.747297286987305,
          12.69487476348877,
          -22.25794219970703,
          14.163761138916016,
          -28.965431213378906,
          3.6014256477355957,
          18.838293075561523,
          19.352394104003906,
          -4.5127177238464355,
          31.091093063354492,
          -43.92585754394531,
          -21.52618408203125,
          0.032922353595495224,
          20.040815353393555,
          8.17470932006836,
          -25.679943084716797,
          14.53095817565918,
          6.0525102615356445,
          -44.101783752441406,
          6.463954925537109,
          -8.610100746154785,
          -24.172344207763672,
          53.807945251464844,
          25.680221557617188,
          -26.727327346801758,
          -2.5280990600585938,
          -0.8309418559074402,
          7.3172125816345215,
          10.982093811035156,
          -11.22851848602295,
          -10.169493675231934,
          10.88624095916748,
          -11.824915885925293,
          -0.8544501066207886,
          -3.056387186050415,
          -9.126392364501953,
          -42.54355239868164,
          -11.052474021911621,
          -18.901315689086914,
          -29.408987045288086,
          -7.290813446044922,
          -44.5805549621582,
          -19.801910400390625,
          -21.635459899902344,
          17.846141815185547,
          17.216161727905273,
          -1.6778374910354614,
          31.702232360839844,
          -0.20381370186805725,
          14.447847366333008,
          -13.087835311889648,
          6.320026874542236,
          62.339412689208984,
          20.95859718322754,
          -37.47312927246094,
          8.496576309204102,
          -36.3724365234375,
          -4.780181407928467,
          1.954529047012329,
          -14.853453636169434,
          -13.845392227172852,
          27.412939071655273,
          -19.434043884277344,
          3.442260265350342,
          28.135648727416992,
          -20.181406021118164,
          22.84279441833496,
          -5.623537063598633,
          5.398305892944336,
          3.0710690021514893,
          -16.305278778076172,
          24.15941619873047,
          -42.64704132080078,
          16.610048294067383,
          12.207892417907715,
          -34.44137191772461,
          -15.657838821411133,
          1.0291253328323364,
          18.044174194335938,
          -154.63951110839844,
          -24.131763458251953,
          1.0923774242401123,
          -36.63067626953125,
          15.246342658996582,
          -38.63008499145508,
          1.4446227550506592,
          0.24377599358558655,
          7.2082438468933105,
          23.215517044067383,
          -10.943269729614258,
          37.198272705078125,
          -15.337732315063477,
          -12.827816009521484,
          -16.020780563354492,
          12.928807258605957,
          8.301633834838867,
          32.29379653930664,
          14.88973331451416,
          -28.621145248413086,
          3.424509048461914,
          4.312524795532227,
          -10.137062072753906,
          -2.6967220306396484,
          -20.562387466430664,
          18.770540237426758,
          7.953460216522217,
          -11.603362083435059,
          21.130287170410156,
          -3.3219525814056396,
          -31.80535125732422,
          22.201805114746094,
          17.875585556030273,
          -34.56296157836914,
          11.423283576965332,
          30.720016479492188,
          -17.753503799438477
         ],
         "y": [
          -29.509798049926758,
          10.671571731567383,
          -16.81602668762207,
          -25.54465675354004,
          -15.43111515045166,
          -20.82792854309082,
          -14.12981128692627,
          -25.62916374206543,
          9.919785499572754,
          -11.352940559387207,
          -42.81919479370117,
          -9.29751205444336,
          7.150963306427002,
          14.834643363952637,
          -22.019163131713867,
          -4.825055122375488,
          -19.992101669311523,
          273.1344909667969,
          55.73618698120117,
          10.417322158813477,
          -8.073974609375,
          -36.551536560058594,
          -58.50566482543945,
          4.345696449279785,
          -6.060944080352783,
          -24.62479019165039,
          46.254581451416016,
          23.71031951904297,
          -35.273658752441406,
          17.068490982055664,
          -22.591903686523438,
          39.38911437988281,
          37.80670928955078,
          -11.039795875549316,
          39.85416793823242,
          -22.568206787109375,
          20.473360061645508,
          -8.944241523742676,
          -30.676801681518555,
          42.068275451660156,
          -21.295366287231445,
          26.21796417236328,
          -13.664855003356934,
          21.718708038330078,
          2.1092746257781982,
          -37.144615173339844,
          -11.159558296203613,
          -43.41935348510742,
          31.845680236816406,
          -6.120769023895264,
          38.45499038696289,
          0.9757902026176453,
          17.472253799438477,
          -12.88723373413086,
          5.4048614501953125,
          34.23594284057617,
          -25.596803665161133,
          -2.4121005535125732,
          -0.12116359919309616,
          41.4792594909668,
          37.30876541137695,
          8.256514549255371,
          6.690950870513916,
          33.95126724243164,
          -29.04178810119629,
          -27.71310043334961,
          -20.440017700195312,
          0.7781960964202881,
          3.1965956687927246,
          9.394840240478516,
          9.709188461303711,
          30.78438377380371,
          7.5969462394714355,
          27.746023178100586,
          21.17826271057129,
          10.624542236328125,
          -10.59482479095459,
          -47.2252082824707,
          -7.82669734954834,
          10.860283851623535,
          -5.593966007232666,
          16.04361343383789,
          1.1792652606964111,
          0.04349840432405472,
          -3.040933132171631,
          58.28334426879883,
          -2.213021755218506,
          -11.3392972946167,
          -18.50240135192871,
          -0.8467016220092773,
          8.067288398742676,
          -24.395536422729492,
          20.370424270629883,
          -18.879613876342773,
          11.478010177612305,
          -14.31894588470459,
          -5.218571662902832,
          -8.980663299560547,
          6.661011695861816,
          16.257322311401367,
          18.59384536743164,
          -34.69709777832031,
          24.208768844604492,
          -2.5519297122955322,
          13.26296329498291,
          1.551488995552063,
          -18.429441452026367,
          6.305247783660889,
          1.7841694355010986,
          -14.229959487915039,
          14.457061767578125,
          -17.121841430664062,
          -270.2322998046875,
          8.645092010498047,
          16.431509017944336,
          1.9655201435089111,
          27.338098526000977,
          -9.627012252807617,
          -20.3466854095459,
          -32.528717041015625,
          -36.36530303955078,
          -4.417835712432861,
          20.697927474975586,
          -21.2833309173584,
          5.809576034545898,
          -0.9403213262557983,
          6.907754898071289,
          -17.276826858520508,
          2.3812832832336426,
          6.437809467315674,
          -35.4265022277832,
          -27.025772094726562,
          22.926042556762695,
          -26.023305892944336,
          -13.420594215393066,
          41.98396301269531,
          28.367080688476562,
          -0.819781482219696,
          -7.231317520141602,
          7.586105823516846,
          22.292375564575195,
          -2.794922113418579,
          12.688406944274902,
          20.301572799682617,
          15.539729118347168,
          32.58222198486328,
          50.120155334472656,
          14.606337547302246,
          -11.179107666015625
         ],
         "z": [
          -3.1108574867248535,
          4.283106803894043,
          -10.476192474365234,
          -24.757946014404297,
          -19.76898956298828,
          -11.061661720275879,
          12.915526390075684,
          9.742118835449219,
          -22.41960334777832,
          -30.265987396240234,
          -3.5188708305358887,
          9.933121681213379,
          -4.614771366119385,
          27.129981994628906,
          22.646045684814453,
          18.01292610168457,
          23.292545318603516,
          -0.5408893823623657,
          -6.157302379608154,
          32.264556884765625,
          2.4549272060394287,
          15.045731544494629,
          13.066253662109375,
          8.527774810791016,
          -30.39876937866211,
          39.78739547729492,
          -30.602792739868164,
          4.009149074554443,
          8.521017074584961,
          20.882503509521484,
          -17.11577606201172,
          -10.139561653137207,
          -11.544991493225098,
          -36.00998306274414,
          -7.809420585632324,
          -15.72796630859375,
          4.245263576507568,
          -18.586658477783203,
          4.3312835693359375,
          -4.435277462005615,
          -1.2628155946731567,
          33.01639175415039,
          15.529475212097168,
          -3.7131459712982178,
          14.8976411819458,
          -7.673563480377197,
          15.071340560913086,
          2.807454824447632,
          1.5608274936676025,
          37.93216323852539,
          -18.317033767700195,
          -8.95128059387207,
          0.5602814555168152,
          39.819095611572266,
          -48.027137756347656,
          45.565921783447266,
          10.442882537841797,
          14.92672061920166,
          4.968611717224121,
          -3.5056707859039307,
          21.747711181640625,
          0.21203647553920746,
          27.69260025024414,
          -23.61603546142578,
          -39.48207092285156,
          23.100370407104492,
          -41.16026306152344,
          -19.769878387451172,
          -26.789146423339844,
          19.202117919921875,
          -39.57621765136719,
          22.473873138427734,
          -20.583717346191406,
          6.866243839263916,
          -104.64301300048828,
          17.834819793701172,
          -18.355440139770508,
          -17.207578659057617,
          -27.872835159301758,
          12.270536422729492,
          18.502365112304688,
          18.136455535888672,
          -35.77338790893555,
          28.66412353515625,
          21.402719497680664,
          45.4808235168457,
          38.08118438720703,
          1.615877628326416,
          11.666132926940918,
          20.418792724609375,
          -39.19462203979492,
          -5.812158584594727,
          -8.598764419555664,
          20.609329223632812,
          -19.14164161682129,
          -0.9629266858100891,
          -8.15726375579834,
          -15.922919273376465,
          8.566996574401855,
          -28.248172760009766,
          -19.585731506347656,
          28.154865264892578,
          37.44397735595703,
          18.63018226623535,
          -5.376761436462402,
          13.87939167022705,
          20.363475799560547,
          5.684525966644287,
          28.526016235351562,
          -16.596790313720703,
          -5.754317283630371,
          5.262081146240234,
          -22.53477668762207,
          -38.477989196777344,
          -22.108505249023438,
          -8.454540252685547,
          7.836423873901367,
          22.3979549407959,
          -22.247774124145508,
          -19.261869430541992,
          -1.6761592626571655,
          -4.990381240844727,
          -14.534157752990723,
          -12.911840438842773,
          -11.550475120544434,
          -24.13389015197754,
          3.0045289993286133,
          37.43877029418945,
          26.84674644470215,
          23.86271095275879,
          -4.2194600105285645,
          10.3672513961792,
          -37.46665954589844,
          -17.346006393432617,
          3.195990800857544,
          -17.286659240722656,
          -13.216350555419922,
          -4.378844261169434,
          16.88857078552246,
          -54.296749114990234,
          -0.7070152163505554,
          -24.954885482788086,
          2.304959535598755,
          -34.56950759887695,
          9.551071166992188,
          -11.78603744506836,
          14.097491264343262,
          -10.208854675292969,
          3.527456045150757
         ]
        }
       ],
       "layout": {
        "hovermode": "closest",
        "margin": {
         "b": 0,
         "l": 0,
         "r": 0,
         "t": 40
        },
        "scene": {
         "camera": {
          "center": {
           "x": 0,
           "y": 0,
           "z": 0
          },
          "eye": {
           "x": 1.5,
           "y": 1.5,
           "z": 1.5
          },
          "up": {
           "x": 0,
           "y": 0,
           "z": 1
          }
         },
         "xaxis": {
          "backgroundcolor": "rgb(230, 230, 230)",
          "gridcolor": "white",
          "gridwidth": 2,
          "showbackground": true,
          "showgrid": true,
          "title": {
           "text": "X"
          },
          "zerolinecolor": "white"
         },
         "yaxis": {
          "backgroundcolor": "rgb(230, 230, 230)",
          "gridcolor": "white",
          "gridwidth": 2,
          "showbackground": true,
          "showgrid": true,
          "title": {
           "text": "Y"
          },
          "zerolinecolor": "white"
         },
         "zaxis": {
          "backgroundcolor": "rgb(230, 230, 230)",
          "gridcolor": "white",
          "gridwidth": 2,
          "showbackground": true,
          "showgrid": true,
          "title": {
           "text": "Z"
          },
          "zerolinecolor": "white"
         }
        },
        "showlegend": false,
        "template": {
         "data": {
          "bar": [
           {
            "error_x": {
             "color": "#2a3f5f"
            },
            "error_y": {
             "color": "#2a3f5f"
            },
            "marker": {
             "line": {
              "color": "#E5ECF6",
              "width": 0.5
             },
             "pattern": {
              "fillmode": "overlay",
              "size": 10,
              "solidity": 0.2
             }
            },
            "type": "bar"
           }
          ],
          "barpolar": [
           {
            "marker": {
             "line": {
              "color": "#E5ECF6",
              "width": 0.5
             },
             "pattern": {
              "fillmode": "overlay",
              "size": 10,
              "solidity": 0.2
             }
            },
            "type": "barpolar"
           }
          ],
          "carpet": [
           {
            "aaxis": {
             "endlinecolor": "#2a3f5f",
             "gridcolor": "white",
             "linecolor": "white",
             "minorgridcolor": "white",
             "startlinecolor": "#2a3f5f"
            },
            "baxis": {
             "endlinecolor": "#2a3f5f",
             "gridcolor": "white",
             "linecolor": "white",
             "minorgridcolor": "white",
             "startlinecolor": "#2a3f5f"
            },
            "type": "carpet"
           }
          ],
          "choropleth": [
           {
            "colorbar": {
             "outlinewidth": 0,
             "ticks": ""
            },
            "type": "choropleth"
           }
          ],
          "contour": [
           {
            "colorbar": {
             "outlinewidth": 0,
             "ticks": ""
            },
            "colorscale": [
             [
              0,
              "#0d0887"
             ],
             [
              0.1111111111111111,
              "#46039f"
             ],
             [
              0.2222222222222222,
              "#7201a8"
             ],
             [
              0.3333333333333333,
              "#9c179e"
             ],
             [
              0.4444444444444444,
              "#bd3786"
             ],
             [
              0.5555555555555556,
              "#d8576b"
             ],
             [
              0.6666666666666666,
              "#ed7953"
             ],
             [
              0.7777777777777778,
              "#fb9f3a"
             ],
             [
              0.8888888888888888,
              "#fdca26"
             ],
             [
              1,
              "#f0f921"
             ]
            ],
            "type": "contour"
           }
          ],
          "contourcarpet": [
           {
            "colorbar": {
             "outlinewidth": 0,
             "ticks": ""
            },
            "type": "contourcarpet"
           }
          ],
          "heatmap": [
           {
            "colorbar": {
             "outlinewidth": 0,
             "ticks": ""
            },
            "colorscale": [
             [
              0,
              "#0d0887"
             ],
             [
              0.1111111111111111,
              "#46039f"
             ],
             [
              0.2222222222222222,
              "#7201a8"
             ],
             [
              0.3333333333333333,
              "#9c179e"
             ],
             [
              0.4444444444444444,
              "#bd3786"
             ],
             [
              0.5555555555555556,
              "#d8576b"
             ],
             [
              0.6666666666666666,
              "#ed7953"
             ],
             [
              0.7777777777777778,
              "#fb9f3a"
             ],
             [
              0.8888888888888888,
              "#fdca26"
             ],
             [
              1,
              "#f0f921"
             ]
            ],
            "type": "heatmap"
           }
          ],
          "histogram": [
           {
            "marker": {
             "pattern": {
              "fillmode": "overlay",
              "size": 10,
              "solidity": 0.2
             }
            },
            "type": "histogram"
           }
          ],
          "histogram2d": [
           {
            "colorbar": {
             "outlinewidth": 0,
             "ticks": ""
            },
            "colorscale": [
             [
              0,
              "#0d0887"
             ],
             [
              0.1111111111111111,
              "#46039f"
             ],
             [
              0.2222222222222222,
              "#7201a8"
             ],
             [
              0.3333333333333333,
              "#9c179e"
             ],
             [
              0.4444444444444444,
              "#bd3786"
             ],
             [
              0.5555555555555556,
              "#d8576b"
             ],
             [
              0.6666666666666666,
              "#ed7953"
             ],
             [
              0.7777777777777778,
              "#fb9f3a"
             ],
             [
              0.8888888888888888,
              "#fdca26"
             ],
             [
              1,
              "#f0f921"
             ]
            ],
            "type": "histogram2d"
           }
          ],
          "histogram2dcontour": [
           {
            "colorbar": {
             "outlinewidth": 0,
             "ticks": ""
            },
            "colorscale": [
             [
              0,
              "#0d0887"
             ],
             [
              0.1111111111111111,
              "#46039f"
             ],
             [
              0.2222222222222222,
              "#7201a8"
             ],
             [
              0.3333333333333333,
              "#9c179e"
             ],
             [
              0.4444444444444444,
              "#bd3786"
             ],
             [
              0.5555555555555556,
              "#d8576b"
             ],
             [
              0.6666666666666666,
              "#ed7953"
             ],
             [
              0.7777777777777778,
              "#fb9f3a"
             ],
             [
              0.8888888888888888,
              "#fdca26"
             ],
             [
              1,
              "#f0f921"
             ]
            ],
            "type": "histogram2dcontour"
           }
          ],
          "mesh3d": [
           {
            "colorbar": {
             "outlinewidth": 0,
             "ticks": ""
            },
            "type": "mesh3d"
           }
          ],
          "parcoords": [
           {
            "line": {
             "colorbar": {
              "outlinewidth": 0,
              "ticks": ""
             }
            },
            "type": "parcoords"
           }
          ],
          "pie": [
           {
            "automargin": true,
            "type": "pie"
           }
          ],
          "scatter": [
           {
            "fillpattern": {
             "fillmode": "overlay",
             "size": 10,
             "solidity": 0.2
            },
            "type": "scatter"
           }
          ],
          "scatter3d": [
           {
            "line": {
             "colorbar": {
              "outlinewidth": 0,
              "ticks": ""
             }
            },
            "marker": {
             "colorbar": {
              "outlinewidth": 0,
              "ticks": ""
             }
            },
            "type": "scatter3d"
           }
          ],
          "scattercarpet": [
           {
            "marker": {
             "colorbar": {
              "outlinewidth": 0,
              "ticks": ""
             }
            },
            "type": "scattercarpet"
           }
          ],
          "scattergeo": [
           {
            "marker": {
             "colorbar": {
              "outlinewidth": 0,
              "ticks": ""
             }
            },
            "type": "scattergeo"
           }
          ],
          "scattergl": [
           {
            "marker": {
             "colorbar": {
              "outlinewidth": 0,
              "ticks": ""
             }
            },
            "type": "scattergl"
           }
          ],
          "scattermap": [
           {
            "marker": {
             "colorbar": {
              "outlinewidth": 0,
              "ticks": ""
             }
            },
            "type": "scattermap"
           }
          ],
          "scattermapbox": [
           {
            "marker": {
             "colorbar": {
              "outlinewidth": 0,
              "ticks": ""
             }
            },
            "type": "scattermapbox"
           }
          ],
          "scatterpolar": [
           {
            "marker": {
             "colorbar": {
              "outlinewidth": 0,
              "ticks": ""
             }
            },
            "type": "scatterpolar"
           }
          ],
          "scatterpolargl": [
           {
            "marker": {
             "colorbar": {
              "outlinewidth": 0,
              "ticks": ""
             }
            },
            "type": "scatterpolargl"
           }
          ],
          "scatterternary": [
           {
            "marker": {
             "colorbar": {
              "outlinewidth": 0,
              "ticks": ""
             }
            },
            "type": "scatterternary"
           }
          ],
          "surface": [
           {
            "colorbar": {
             "outlinewidth": 0,
             "ticks": ""
            },
            "colorscale": [
             [
              0,
              "#0d0887"
             ],
             [
              0.1111111111111111,
              "#46039f"
             ],
             [
              0.2222222222222222,
              "#7201a8"
             ],
             [
              0.3333333333333333,
              "#9c179e"
             ],
             [
              0.4444444444444444,
              "#bd3786"
             ],
             [
              0.5555555555555556,
              "#d8576b"
             ],
             [
              0.6666666666666666,
              "#ed7953"
             ],
             [
              0.7777777777777778,
              "#fb9f3a"
             ],
             [
              0.8888888888888888,
              "#fdca26"
             ],
             [
              1,
              "#f0f921"
             ]
            ],
            "type": "surface"
           }
          ],
          "table": [
           {
            "cells": {
             "fill": {
              "color": "#EBF0F8"
             },
             "line": {
              "color": "white"
             }
            },
            "header": {
             "fill": {
              "color": "#C8D4E3"
             },
             "line": {
              "color": "white"
             }
            },
            "type": "table"
           }
          ]
         },
         "layout": {
          "annotationdefaults": {
           "arrowcolor": "#2a3f5f",
           "arrowhead": 0,
           "arrowwidth": 1
          },
          "autotypenumbers": "strict",
          "coloraxis": {
           "colorbar": {
            "outlinewidth": 0,
            "ticks": ""
           }
          },
          "colorscale": {
           "diverging": [
            [
             0,
             "#8e0152"
            ],
            [
             0.1,
             "#c51b7d"
            ],
            [
             0.2,
             "#de77ae"
            ],
            [
             0.3,
             "#f1b6da"
            ],
            [
             0.4,
             "#fde0ef"
            ],
            [
             0.5,
             "#f7f7f7"
            ],
            [
             0.6,
             "#e6f5d0"
            ],
            [
             0.7,
             "#b8e186"
            ],
            [
             0.8,
             "#7fbc41"
            ],
            [
             0.9,
             "#4d9221"
            ],
            [
             1,
             "#276419"
            ]
           ],
           "sequential": [
            [
             0,
             "#0d0887"
            ],
            [
             0.1111111111111111,
             "#46039f"
            ],
            [
             0.2222222222222222,
             "#7201a8"
            ],
            [
             0.3333333333333333,
             "#9c179e"
            ],
            [
             0.4444444444444444,
             "#bd3786"
            ],
            [
             0.5555555555555556,
             "#d8576b"
            ],
            [
             0.6666666666666666,
             "#ed7953"
            ],
            [
             0.7777777777777778,
             "#fb9f3a"
            ],
            [
             0.8888888888888888,
             "#fdca26"
            ],
            [
             1,
             "#f0f921"
            ]
           ],
           "sequentialminus": [
            [
             0,
             "#0d0887"
            ],
            [
             0.1111111111111111,
             "#46039f"
            ],
            [
             0.2222222222222222,
             "#7201a8"
            ],
            [
             0.3333333333333333,
             "#9c179e"
            ],
            [
             0.4444444444444444,
             "#bd3786"
            ],
            [
             0.5555555555555556,
             "#d8576b"
            ],
            [
             0.6666666666666666,
             "#ed7953"
            ],
            [
             0.7777777777777778,
             "#fb9f3a"
            ],
            [
             0.8888888888888888,
             "#fdca26"
            ],
            [
             1,
             "#f0f921"
            ]
           ]
          },
          "colorway": [
           "#636efa",
           "#EF553B",
           "#00cc96",
           "#ab63fa",
           "#FFA15A",
           "#19d3f3",
           "#FF6692",
           "#B6E880",
           "#FF97FF",
           "#FECB52"
          ],
          "font": {
           "color": "#2a3f5f"
          },
          "geo": {
           "bgcolor": "white",
           "lakecolor": "white",
           "landcolor": "#E5ECF6",
           "showlakes": true,
           "showland": true,
           "subunitcolor": "white"
          },
          "hoverlabel": {
           "align": "left"
          },
          "hovermode": "closest",
          "mapbox": {
           "style": "light"
          },
          "paper_bgcolor": "white",
          "plot_bgcolor": "#E5ECF6",
          "polar": {
           "angularaxis": {
            "gridcolor": "white",
            "linecolor": "white",
            "ticks": ""
           },
           "bgcolor": "#E5ECF6",
           "radialaxis": {
            "gridcolor": "white",
            "linecolor": "white",
            "ticks": ""
           }
          },
          "scene": {
           "xaxis": {
            "backgroundcolor": "#E5ECF6",
            "gridcolor": "white",
            "gridwidth": 2,
            "linecolor": "white",
            "showbackground": true,
            "ticks": "",
            "zerolinecolor": "white"
           },
           "yaxis": {
            "backgroundcolor": "#E5ECF6",
            "gridcolor": "white",
            "gridwidth": 2,
            "linecolor": "white",
            "showbackground": true,
            "ticks": "",
            "zerolinecolor": "white"
           },
           "zaxis": {
            "backgroundcolor": "#E5ECF6",
            "gridcolor": "white",
            "gridwidth": 2,
            "linecolor": "white",
            "showbackground": true,
            "ticks": "",
            "zerolinecolor": "white"
           }
          },
          "shapedefaults": {
           "line": {
            "color": "#2a3f5f"
           }
          },
          "ternary": {
           "aaxis": {
            "gridcolor": "white",
            "linecolor": "white",
            "ticks": ""
           },
           "baxis": {
            "gridcolor": "white",
            "linecolor": "white",
            "ticks": ""
           },
           "bgcolor": "#E5ECF6",
           "caxis": {
            "gridcolor": "white",
            "linecolor": "white",
            "ticks": ""
           }
          },
          "title": {
           "x": 0.05
          },
          "xaxis": {
           "automargin": true,
           "gridcolor": "white",
           "linecolor": "white",
           "ticks": "",
           "title": {
            "standoff": 15
           },
           "zerolinecolor": "white",
           "zerolinewidth": 2
          },
          "yaxis": {
           "automargin": true,
           "gridcolor": "white",
           "linecolor": "white",
           "ticks": "",
           "title": {
            "standoff": 15
           },
           "zerolinecolor": "white",
           "zerolinewidth": 2
          }
         }
        },
        "title": {
         "text": "Interactive 3D t-SNE Network of Topic Embeddings"
        }
       }
      }
     },
     "metadata": {},
     "output_type": "display_data"
    }
   ],
   "source": [
    "# Install necessary packages if needed\n",
    "# !pip install plotly networkx scipy scikit-learn pandas\n",
    "\n",
    "import networkx as nx\n",
    "import plotly.graph_objects as go\n",
    "from scipy.spatial import distance\n",
    "import numpy as np\n",
    "import pandas as pd\n",
    "from sklearn.decomposition import PCA\n",
    "from sklearn.manifold import TSNE\n",
    "\n",
    "\n",
    "# Apply dimensionality reduction\n",
    "print(\"Applying PCA...\")\n",
    "pca_3d = PCA(n_components=3)\n",
    "pca_result_3d = pca_3d.fit_transform(embeddings_array)\n",
    "\n",
    "print(\"Computing t-SNE...\")\n",
    "tsne_3d = TSNE(\n",
    "    n_components=3, \n",
    "    perplexity=min(3, len(embeddings)-1),\n",
    "    random_state=42, \n",
    "    n_iter=500,\n",
    "    learning_rate='auto',\n",
    "    init='pca'\n",
    ")\n",
    "tsne_result_3d = tsne_3d.fit_transform(embeddings_array)\n",
    "\n",
    "# Create a Pandas DataFrame for visualization\n",
    "visualization_data = pd.DataFrame({\n",
    "    'title': titles,\n",
    "    'domain': domains,\n",
    "    'pca_x': pca_result_3d[:, 0],\n",
    "    'pca_y': pca_result_3d[:, 1],\n",
    "    'pca_z': pca_result_3d[:, 2],\n",
    "    'tsne_x': tsne_result_3d[:, 0],\n",
    "    'tsne_y': tsne_result_3d[:, 1],\n",
    "    'tsne_z': tsne_result_3d[:, 2]\n",
    "})\n",
    "\n",
    "# Create a NetworkX graph\n",
    "G = nx.Graph()\n",
    "\n",
    "# Add nodes with attributes\n",
    "for i in range(len(visualization_data)):\n",
    "    G.add_node(i, \n",
    "               title=visualization_data['title'][i], \n",
    "               domain=visualization_data['domain'][i],\n",
    "               pca_pos=(visualization_data['pca_x'][i], visualization_data['pca_y'][i], visualization_data['pca_z'][i]),\n",
    "               tsne_pos=(visualization_data['tsne_x'][i], visualization_data['tsne_y'][i], visualization_data['tsne_z'][i]))\n",
    "\n",
    "# Add edges between similar nodes (using cosine similarity)\n",
    "# Only connect nodes that are sufficiently similar to avoid a hairball\n",
    "threshold = 0.8  # Adjust this threshold as needed\n",
    "print(\"Computing edges based on cosine similarity...\")\n",
    "for i in range(len(embeddings)):\n",
    "    for j in range(i+1, len(embeddings)):\n",
    "        sim = 1 - distance.cosine(embeddings[i], embeddings[j])\n",
    "        if sim > threshold:\n",
    "            G.add_edge(i, j, weight=sim)\n",
    "\n",
    "# Create interactive plots (one for PCA, one for t-SNE)\n",
    "def create_3d_network_plot(G, pos_attr, title):\n",
    "    # Extract node positions\n",
    "    node_x = []\n",
    "    node_y = []\n",
    "    node_z = []\n",
    "    node_text = []\n",
    "    node_color = list(range(len(G.nodes())))\n",
    "    \n",
    "    for node in G.nodes():\n",
    "        x, y, z = G.nodes[node][pos_attr]\n",
    "        node_x.append(x)\n",
    "        node_y.append(y)\n",
    "        node_z.append(z)\n",
    "        node_text.append(f\"Title: {G.nodes[node]['title']}<br>Domain: {G.nodes[node]['domain']}\")\n",
    "    \n",
    "    # Create edges\n",
    "    edge_x = []\n",
    "    edge_y = []\n",
    "    edge_z = []\n",
    "    \n",
    "    for edge in G.edges():\n",
    "        x0, y0, z0 = G.nodes[edge[0]][pos_attr]\n",
    "        x1, y1, z1 = G.nodes[edge[1]][pos_attr]\n",
    "        # Add None to create a break in the line\n",
    "        edge_x.extend([x0, x1, None])\n",
    "        edge_y.extend([y0, y1, None])\n",
    "        edge_z.extend([z0, z1, None])\n",
    "    \n",
    "    # Create edge trace\n",
    "    edge_trace = go.Scatter3d(\n",
    "        x=edge_x, y=edge_y, z=edge_z,\n",
    "        line=dict(width=1, color='lightgrey'),\n",
    "        hoverinfo='none',\n",
    "        mode='lines'\n",
    "    )\n",
    "    \n",
    "    # Create node trace\n",
    "    node_trace = go.Scatter3d(\n",
    "        x=node_x, y=node_y, z=node_z,\n",
    "        mode='markers',\n",
    "        marker=dict(\n",
    "            size=8,\n",
    "            color=node_color,\n",
    "            colorscale='Viridis',\n",
    "            opacity=0.8,\n",
    "            colorbar=dict(\n",
    "                thickness=20,\n",
    "                title='Node Index'\n",
    "            )\n",
    "        ),\n",
    "        text=node_text,\n",
    "        hoverinfo='text'\n",
    "    )\n",
    "    \n",
    "    # Create the figure\n",
    "    fig = go.Figure(data=[edge_trace, node_trace])\n",
    "    fig.update_layout(\n",
    "        title=title,\n",
    "        scene=dict(\n",
    "            xaxis=dict(\n",
    "                title='X', \n",
    "                showbackground=True,\n",
    "                backgroundcolor='rgb(230, 230, 230)',\n",
    "                showgrid=True,\n",
    "                gridcolor='white',\n",
    "                gridwidth=2,\n",
    "                zerolinecolor='white'\n",
    "            ),\n",
    "            yaxis=dict(\n",
    "                title='Y', \n",
    "                showbackground=True,\n",
    "                backgroundcolor='rgb(230, 230, 230)',\n",
    "                showgrid=True,\n",
    "                gridcolor='white',\n",
    "                gridwidth=2,\n",
    "                zerolinecolor='white'\n",
    "            ),\n",
    "            zaxis=dict(\n",
    "                title='Z', \n",
    "                showbackground=True,\n",
    "                backgroundcolor='rgb(230, 230, 230)',\n",
    "                showgrid=True,\n",
    "                gridcolor='white',\n",
    "                gridwidth=2,\n",
    "                zerolinecolor='white'\n",
    "            )\n",
    "        ),\n",
    "        margin=dict(l=0, r=0, b=0, t=40),\n",
    "        showlegend=False,\n",
    "        hovermode='closest',\n",
    "        scene_camera=dict(\n",
    "            up=dict(x=0, y=0, z=1),\n",
    "            center=dict(x=0, y=0, z=0),\n",
    "            eye=dict(x=1.5, y=1.5, z=1.5)\n",
    "        )\n",
    "    )\n",
    "    return fig\n",
    "# Create the PCA visualization\n",
    "pca_fig = create_3d_network_plot(G, 'pca_pos', 'Interactive 3D PCA Network of Topic Embeddings')\n",
    "\n",
    "# Create the t-SNE visualization\n",
    "tsne_fig = create_3d_network_plot(G, 'tsne_pos', 'Interactive 3D t-SNE Network of Topic Embeddings')\n",
    "\n",
    "# Print some graph statistics\n",
    "print(f\"Graph has {G.number_of_nodes()} nodes and {G.number_of_edges()} edges\")\n",
    "print(f\"Total explained variance with 3 PCA components: {sum(pca_3d.explained_variance_ratio_):.2f}\")\n",
    "\n",
    "# Display the plots\n",
    "print(\"Displaying interactive PCA visualization...\")\n",
    "pca_fig.show()\n",
    "\n",
    "print(\"Displaying interactive t-SNE visualization...\")\n",
    "tsne_fig.show()"
   ]
  },
  {
   "cell_type": "code",
   "execution_count": null,
   "metadata": {},
   "outputs": [],
   "source": []
  },
  {
   "cell_type": "code",
   "execution_count": null,
   "metadata": {},
   "outputs": [
    {
     "name": "stdout",
     "output_type": "stream",
     "text": [
      "PCA visualization saved to ../output/pca_visualization.html\n",
      "t-SNE visualization saved to ../output/tsne_visualization.html\n",
      "Combined visualization saved to ../output/combined_visualization.html\n"
     ]
    },
    {
     "data": {
      "text/html": [
       "<a href=\"file:///../output/pca_visualization.html\" target=\"_blank\">Open PCA Visualization in Browser</a>"
      ],
      "text/plain": [
       "<IPython.core.display.HTML object>"
      ]
     },
     "metadata": {},
     "output_type": "display_data"
    },
    {
     "data": {
      "text/html": [
       "<a href=\"file:///../output/tsne_visualization.html\" target=\"_blank\">Open t-SNE Visualization in Browser</a>"
      ],
      "text/plain": [
       "<IPython.core.display.HTML object>"
      ]
     },
     "metadata": {},
     "output_type": "display_data"
    },
    {
     "data": {
      "text/html": [
       "<a href=\"file:///../output/combined_visualization.html\" target=\"_blank\">Open Combined Visualization in Browser</a>"
      ],
      "text/plain": [
       "<IPython.core.display.HTML object>"
      ]
     },
     "metadata": {},
     "output_type": "display_data"
    }
   ],
   "source": [
    "# After creating your figures, save them as HTML files\n",
    "# This will create standalone interactive HTML files that can be opened in any browser\n",
    "\n",
    "# Save the PCA visualization to an HTML file\n",
    "pca_html_path = \"../output/pca_visualization.html\"\n",
    "pca_fig.write_html(pca_html_path, full_html=True, include_plotlyjs='cdn')\n",
    "print(f\"PCA visualization saved to {pca_html_path}\")\n",
    "\n",
    "# Save the t-SNE visualization to an HTML file\n",
    "tsne_html_path = \"../output/tsne_visualization.html\"\n",
    "tsne_fig.write_html(tsne_html_path, full_html=True, include_plotlyjs='cdn')\n",
    "print(f\"t-SNE visualization saved to {tsne_html_path}\")\n",
    "\n",
    "# Create a combined visualization with both plots\n",
    "from plotly.subplots import make_subplots\n",
    "import plotly.io as pio\n",
    "\n",
    "# Create a figure with 1 row and 2 columns\n",
    "combined_fig = make_subplots(\n",
    "    rows=1, cols=2,\n",
    "    specs=[[{'type': 'scene'}, {'type': 'scene'}]],\n",
    "    subplot_titles=(\"3D PCA Visualization\", \"3D t-SNE Visualization\")\n",
    ")\n",
    "\n",
    "# Add PCA traces to the first subplot\n",
    "for trace in pca_fig.data:\n",
    "    combined_fig.add_trace(trace, row=1, col=1)\n",
    "\n",
    "# Add t-SNE traces to the second subplot\n",
    "for trace in tsne_fig.data:\n",
    "    combined_fig.add_trace(trace, row=1, col=2)\n",
    "\n",
    "# Update layout for both subplots\n",
    "combined_fig.update_layout(\n",
    "    title_text=\"Interactive 3D Network Visualizations\",\n",
    "    height=800,\n",
    "    width=1600,\n",
    ")\n",
    "\n",
    "# Copy scene settings from individual figures to combined figure\n",
    "combined_fig.update_scenes(\n",
    "    xaxis=pca_fig.layout.scene.xaxis,\n",
    "    yaxis=pca_fig.layout.scene.yaxis,\n",
    "    zaxis=pca_fig.layout.scene.zaxis,\n",
    "    row=1, col=1\n",
    ")\n",
    "\n",
    "combined_fig.update_scenes(\n",
    "    xaxis=tsne_fig.layout.scene.xaxis,\n",
    "    yaxis=tsne_fig.layout.scene.yaxis,\n",
    "    zaxis=tsne_fig.layout.scene.zaxis,\n",
    "    row=1, col=2\n",
    ")\n",
    "\n",
    "# Save the combined visualization\n",
    "combined_html_path = \"../output/combined_visualization.html\"\n",
    "combined_fig.write_html(combined_html_path, full_html=True, include_plotlyjs='cdn')\n",
    "print(f\"Combined visualization saved to {combined_html_path}\")\n",
    "\n",
    "# Display URLs that can be clicked to open in browser\n",
    "from IPython.display import display, HTML\n",
    "\n",
    "display(HTML(f'<a href=\"file:///{pca_html_path}\" target=\"_blank\">Open PCA Visualization in Browser</a>'))\n",
    "display(HTML(f'<a href=\"file:///{tsne_html_path}\" target=\"_blank\">Open t-SNE Visualization in Browser</a>'))\n",
    "display(HTML(f'<a href=\"file:///{combined_html_path}\" target=\"_blank\">Open Combined Visualization in Browser</a>'))\n",
    "\n",
    "# Create directories if they don't exist\n",
    "import os\n",
    "os.makedirs(\"../output\", exist_ok=True)"
   ]
  }
 ],
 "metadata": {
  "kernelspec": {
   "display_name": ".venv",
   "language": "python",
   "name": "python3"
  },
  "language_info": {
   "codemirror_mode": {
    "name": "ipython",
    "version": 3
   },
   "file_extension": ".py",
   "mimetype": "text/x-python",
   "name": "python",
   "nbconvert_exporter": "python",
   "pygments_lexer": "ipython3",
   "version": "3.12.8"
  }
 },
 "nbformat": 4,
 "nbformat_minor": 2
}
